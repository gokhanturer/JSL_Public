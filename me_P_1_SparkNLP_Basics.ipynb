{
  "nbformat": 4,
  "nbformat_minor": 0,
  "metadata": {
    "colab": {
      "name": "me_P-1.SparkNLP_Basics.ipynb",
      "provenance": []
    },
    "kernelspec": {
      "name": "python3",
      "display_name": "Python 3"
    },
    "language_info": {
      "name": "python"
    }
  },
  "cells": [
    {
      "cell_type": "markdown",
      "source": [
        "**Spark NLP Basics and Pretrained Pipelines**\n",
        "\n"
      ],
      "metadata": {
        "id": "xDEQALjy7Zn9"
      }
    },
    {
      "cell_type": "code",
      "execution_count": 1,
      "metadata": {
        "colab": {
          "base_uri": "https://localhost:8080/"
        },
        "id": "fIl1zpJ8NOMM",
        "outputId": "1ecb3340-adcd-4e56-8661-7ed5cd60e33c"
      },
      "outputs": [
        {
          "output_type": "stream",
          "name": "stdout",
          "text": [
            "\u001b[K     |████████████████████████████████| 212.4 MB 67 kB/s \n",
            "\u001b[K     |████████████████████████████████| 133 kB 50.5 MB/s \n",
            "\u001b[K     |████████████████████████████████| 198 kB 45.9 MB/s \n",
            "\u001b[?25h  Building wheel for pyspark (setup.py) ... \u001b[?25l\u001b[?25hdone\n"
          ]
        }
      ],
      "source": [
        "! pip install -q pyspark==3.1.2 spark-nlp"
      ]
    },
    {
      "cell_type": "code",
      "source": [
        "import sparknlp\n",
        "\n",
        "spark = sparknlp.start()\n",
        "\n",
        "print(f\"Soark NLP version: {sparknlp.version()}\")\n",
        "print(f\"Apache Spark version: {spark.version}\")"
      ],
      "metadata": {
        "colab": {
          "base_uri": "https://localhost:8080/"
        },
        "id": "3oMfqAjhNZs_",
        "outputId": "554e5ae4-50d6-4cf9-e9e7-3bbcd592a2f4"
      },
      "execution_count": 2,
      "outputs": [
        {
          "output_type": "stream",
          "name": "stdout",
          "text": [
            "Soark NLP version: 3.3.4\n",
            "Apache Spark version: 3.1.2\n"
          ]
        }
      ]
    },
    {
      "cell_type": "code",
      "source": [
        "! cd ~/.ivy2/cache/com.johnsnowlabs.nlp/spark-nlp_2.12/jars && ls -lt"
      ],
      "metadata": {
        "colab": {
          "base_uri": "https://localhost:8080/"
        },
        "id": "huRKFpJdTShk",
        "outputId": "8a716ff4-b3d9-48a7-ebd1-96871ad3e278"
      },
      "execution_count": 3,
      "outputs": [
        {
          "output_type": "stream",
          "name": "stdout",
          "text": [
            "total 38992\n",
            "-rw-r--r-- 1 root root 39925796 Nov 25 14:01 spark-nlp_2.12-3.3.4.jar\n"
          ]
        }
      ]
    },
    {
      "cell_type": "code",
      "source": [
        "from sparknlp.pretrained import PretrainedPipeline"
      ],
      "metadata": {
        "id": "mn5wU5uEzhQY"
      },
      "execution_count": 4,
      "outputs": []
    },
    {
      "cell_type": "code",
      "source": [
        "testDoc = '''\n",
        "The misson of the United States Air Frce is to fly, fight and win - airpower anytime, nywhere. Whether full time, part time, in or out of uniorm, everyone who serves plays a critial role in helping us achieve mission sccess.\n",
        "'''"
      ],
      "metadata": {
        "id": "CXBi8ByozhNU"
      },
      "execution_count": 5,
      "outputs": []
    },
    {
      "cell_type": "markdown",
      "source": [
        "**Explain Document ML**"
      ],
      "metadata": {
        "id": "-48M7q6d7EHL"
      }
    },
    {
      "cell_type": "code",
      "source": [
        "pipeline = PretrainedPipeline('explain_document_ml', lang= 'en')"
      ],
      "metadata": {
        "colab": {
          "base_uri": "https://localhost:8080/"
        },
        "id": "ayg0SQw08i1D",
        "outputId": "08a79da2-2c88-46f6-eba1-90345613793a"
      },
      "execution_count": 6,
      "outputs": [
        {
          "output_type": "stream",
          "name": "stdout",
          "text": [
            "explain_document_ml download started this may take some time.\n",
            "Approx size to download 9.1 MB\n",
            "[OK!]\n"
          ]
        }
      ]
    },
    {
      "cell_type": "code",
      "source": [
        "pipeline.model.stages"
      ],
      "metadata": {
        "colab": {
          "base_uri": "https://localhost:8080/"
        },
        "id": "VsbmZ7DSzhFH",
        "outputId": "a49d2d0e-0398-4575-f060-7e6d3b5d215b"
      },
      "execution_count": 7,
      "outputs": [
        {
          "output_type": "execute_result",
          "data": {
            "text/plain": [
              "[document_811d40a38b24,\n",
              " SENTENCE_ce56851acebe,\n",
              " REGEX_TOKENIZER_78daa3b4692f,\n",
              " SPELL_79c88338ef12,\n",
              " LEMMATIZER_c62ad8f355f9,\n",
              " STEMMER_caf11d1f4d0e,\n",
              " POS_dbb704204f6f]"
            ]
          },
          "metadata": {},
          "execution_count": 7
        }
      ]
    },
    {
      "cell_type": "code",
      "source": [
        "#help(PretrainedPipeline)"
      ],
      "metadata": {
        "id": "EpQdNeAIzhCL"
      },
      "execution_count": 8,
      "outputs": []
    },
    {
      "cell_type": "code",
      "source": [
        "%%time\n",
        "result = pipeline.annotate(testDoc)"
      ],
      "metadata": {
        "colab": {
          "base_uri": "https://localhost:8080/"
        },
        "id": "OZEQ2wKwzg_f",
        "outputId": "4227a137-2050-4401-d471-7dbc2c582f7c"
      },
      "execution_count": 9,
      "outputs": [
        {
          "output_type": "stream",
          "name": "stdout",
          "text": [
            "CPU times: user 32.3 ms, sys: 9.56 ms, total: 41.9 ms\n",
            "Wall time: 1.83 s\n"
          ]
        }
      ]
    },
    {
      "cell_type": "code",
      "source": [
        "result.keys()"
      ],
      "metadata": {
        "colab": {
          "base_uri": "https://localhost:8080/"
        },
        "id": "0vPS-IXizg9H",
        "outputId": "deecb7fc-6a23-47f7-c8f3-26f4257bb570"
      },
      "execution_count": 10,
      "outputs": [
        {
          "output_type": "execute_result",
          "data": {
            "text/plain": [
              "dict_keys(['document', 'spell', 'pos', 'lemmas', 'token', 'stems', 'sentence'])"
            ]
          },
          "metadata": {},
          "execution_count": 10
        }
      ]
    },
    {
      "cell_type": "code",
      "source": [
        "result['sentence']"
      ],
      "metadata": {
        "colab": {
          "base_uri": "https://localhost:8080/"
        },
        "id": "5nIs24_jzg6T",
        "outputId": "f5c8426f-bf5d-4f7e-8983-06b02f98d3eb"
      },
      "execution_count": 11,
      "outputs": [
        {
          "output_type": "execute_result",
          "data": {
            "text/plain": [
              "['The misson of the United States Air Frce is to fly, fight and win - airpower anytime, nywhere.',\n",
              " 'Whether full time, part time, in or out of uniorm, everyone who serves plays a critial role in helping us achieve mission sccess.']"
            ]
          },
          "metadata": {},
          "execution_count": 11
        }
      ]
    },
    {
      "cell_type": "code",
      "source": [
        "result['token']"
      ],
      "metadata": {
        "colab": {
          "base_uri": "https://localhost:8080/"
        },
        "id": "eH6CisWFzg3U",
        "outputId": "8dbe9718-218f-4a94-aae9-33f43a02755c"
      },
      "execution_count": 12,
      "outputs": [
        {
          "output_type": "execute_result",
          "data": {
            "text/plain": [
              "['The',\n",
              " 'misson',\n",
              " 'of',\n",
              " 'the',\n",
              " 'United',\n",
              " 'States',\n",
              " 'Air',\n",
              " 'Frce',\n",
              " 'is',\n",
              " 'to',\n",
              " 'fly',\n",
              " ',',\n",
              " 'fight',\n",
              " 'and',\n",
              " 'win',\n",
              " '-',\n",
              " 'airpower',\n",
              " 'anytime',\n",
              " ',',\n",
              " 'nywhere',\n",
              " '.',\n",
              " 'Whether',\n",
              " 'full',\n",
              " 'time',\n",
              " ',',\n",
              " 'part',\n",
              " 'time',\n",
              " ',',\n",
              " 'in',\n",
              " 'or',\n",
              " 'out',\n",
              " 'of',\n",
              " 'uniorm',\n",
              " ',',\n",
              " 'everyone',\n",
              " 'who',\n",
              " 'serves',\n",
              " 'plays',\n",
              " 'a',\n",
              " 'critial',\n",
              " 'role',\n",
              " 'in',\n",
              " 'helping',\n",
              " 'us',\n",
              " 'achieve',\n",
              " 'mission',\n",
              " 'sccess',\n",
              " '.']"
            ]
          },
          "metadata": {},
          "execution_count": 12
        }
      ]
    },
    {
      "cell_type": "code",
      "source": [
        "list(zip(result['token'],result['pos']))"
      ],
      "metadata": {
        "colab": {
          "base_uri": "https://localhost:8080/"
        },
        "id": "1OI6Eytozg0h",
        "outputId": "7606cbb8-307e-494c-a227-6629b3a77b30"
      },
      "execution_count": 13,
      "outputs": [
        {
          "output_type": "execute_result",
          "data": {
            "text/plain": [
              "[('The', 'DT'),\n",
              " ('misson', 'NN'),\n",
              " ('of', 'IN'),\n",
              " ('the', 'DT'),\n",
              " ('United', 'NNP'),\n",
              " ('States', 'NNPS'),\n",
              " ('Air', 'NNP'),\n",
              " ('Frce', 'NNP'),\n",
              " ('is', 'VBZ'),\n",
              " ('to', 'TO'),\n",
              " ('fly', 'VB'),\n",
              " (',', ','),\n",
              " ('fight', 'NN'),\n",
              " ('and', 'CC'),\n",
              " ('win', 'VB'),\n",
              " ('-', ':'),\n",
              " ('airpower', 'NN'),\n",
              " ('anytime', 'RB'),\n",
              " (',', ','),\n",
              " ('nywhere', 'RB'),\n",
              " ('.', '.'),\n",
              " ('Whether', 'IN'),\n",
              " ('full', 'JJ'),\n",
              " ('time', 'NN'),\n",
              " (',', ','),\n",
              " ('part', 'NN'),\n",
              " ('time', 'NN'),\n",
              " (',', ','),\n",
              " ('in', 'IN'),\n",
              " ('or', 'CC'),\n",
              " ('out', 'IN'),\n",
              " ('of', 'IN'),\n",
              " ('uniorm', 'NN'),\n",
              " (',', ','),\n",
              " ('everyone', 'NN'),\n",
              " ('who', 'WP'),\n",
              " ('serves', 'VBZ'),\n",
              " ('plays', 'VBZ'),\n",
              " ('a', 'DT'),\n",
              " ('critial', 'JJ'),\n",
              " ('role', 'NN'),\n",
              " ('in', 'IN'),\n",
              " ('helping', 'VBG'),\n",
              " ('us', 'PRP'),\n",
              " ('achieve', 'VBP'),\n",
              " ('mission', 'NN'),\n",
              " ('sccess', 'NN'),\n",
              " ('.', '.')]"
            ]
          },
          "metadata": {},
          "execution_count": 13
        }
      ]
    },
    {
      "cell_type": "code",
      "source": [
        "list(zip(result['token'], result['lemmas'], result['stems'], result['spell']))"
      ],
      "metadata": {
        "colab": {
          "base_uri": "https://localhost:8080/"
        },
        "id": "ZWc4cmq1zgqs",
        "outputId": "7b219e25-92fd-46f6-9eba-46c99fc9f124"
      },
      "execution_count": 14,
      "outputs": [
        {
          "output_type": "execute_result",
          "data": {
            "text/plain": [
              "[('The', 'The', 'the', 'The'),\n",
              " ('misson', 'mission', 'mission', 'mission'),\n",
              " ('of', 'of', 'of', 'of'),\n",
              " ('the', 'the', 'the', 'the'),\n",
              " ('United', 'United', 'unit', 'United'),\n",
              " ('States', 'States', 'state', 'States'),\n",
              " ('Air', 'Air', 'air', 'Air'),\n",
              " ('Frce', 'Free', 'free', 'Free'),\n",
              " ('is', 'be', 'i', 'is'),\n",
              " ('to', 'to', 'to', 'to'),\n",
              " ('fly', 'fly', 'fly', 'fly'),\n",
              " (',', ',', ',', ','),\n",
              " ('fight', 'fight', 'fight', 'fight'),\n",
              " ('and', 'and', 'and', 'and'),\n",
              " ('win', 'win', 'win', 'win'),\n",
              " ('-', '-', '-', '-'),\n",
              " ('airpower', 'airpower', 'airpow', 'airpower'),\n",
              " ('anytime', 'anytime', 'anytim', 'anytime'),\n",
              " (',', ',', ',', ','),\n",
              " ('nywhere', 'anywhere', 'anywher', 'anywhere'),\n",
              " ('.', '.', '.', '.'),\n",
              " ('Whether', 'Whether', 'whether', 'Whether'),\n",
              " ('full', 'full', 'full', 'full'),\n",
              " ('time', 'time', 'time', 'time'),\n",
              " (',', ',', ',', ','),\n",
              " ('part', 'part', 'part', 'part'),\n",
              " ('time', 'time', 'time', 'time'),\n",
              " (',', ',', ',', ','),\n",
              " ('in', 'in', 'in', 'in'),\n",
              " ('or', 'or', 'or', 'or'),\n",
              " ('out', 'out', 'out', 'out'),\n",
              " ('of', 'of', 'of', 'of'),\n",
              " ('uniorm', 'uniform', 'uniform', 'uniform'),\n",
              " (',', ',', ',', ','),\n",
              " ('everyone', 'everyone', 'everyon', 'everyone'),\n",
              " ('who', 'who', 'who', 'who'),\n",
              " ('serves', 'serve', 'serv', 'serves'),\n",
              " ('plays', 'play', 'plai', 'plays'),\n",
              " ('a', 'a', 'a', 'a'),\n",
              " ('critial', 'critical', 'critic', 'critical'),\n",
              " ('role', 'role', 'role', 'role'),\n",
              " ('in', 'in', 'in', 'in'),\n",
              " ('helping', 'help', 'help', 'helping'),\n",
              " ('us', 'we', 'u', 'us'),\n",
              " ('achieve', 'achieve', 'achiev', 'achieve'),\n",
              " ('mission', 'mission', 'mission', 'mission'),\n",
              " ('sccess', 'access', 'access', 'access'),\n",
              " ('.', '.', '.', '.')]"
            ]
          },
          "metadata": {},
          "execution_count": 14
        }
      ]
    },
    {
      "cell_type": "code",
      "source": [
        "import pandas as pd\n",
        "pd.set_option(\"display.max_rows\", 100)"
      ],
      "metadata": {
        "id": "er-gs4zLzgnH"
      },
      "execution_count": 15,
      "outputs": []
    },
    {
      "cell_type": "code",
      "source": [
        "df = pd.DataFrame({'token':result['token'], \n",
        "                   'corrected':result['spell'], 'POS':result['pos'],\n",
        "                   'lemmas':result['lemmas'], 'stems':result['stems']})\n",
        "df"
      ],
      "metadata": {
        "colab": {
          "base_uri": "https://localhost:8080/",
          "height": 1000
        },
        "id": "b521dhJ2zgkI",
        "outputId": "95281772-c955-4268-89bb-0d2d1eab6eb4"
      },
      "execution_count": 16,
      "outputs": [
        {
          "output_type": "execute_result",
          "data": {
            "text/html": [
              "\n",
              "  <div id=\"df-24c77b47-f22b-4e96-b2ba-81a625990c99\">\n",
              "    <div class=\"colab-df-container\">\n",
              "      <div>\n",
              "<style scoped>\n",
              "    .dataframe tbody tr th:only-of-type {\n",
              "        vertical-align: middle;\n",
              "    }\n",
              "\n",
              "    .dataframe tbody tr th {\n",
              "        vertical-align: top;\n",
              "    }\n",
              "\n",
              "    .dataframe thead th {\n",
              "        text-align: right;\n",
              "    }\n",
              "</style>\n",
              "<table border=\"1\" class=\"dataframe\">\n",
              "  <thead>\n",
              "    <tr style=\"text-align: right;\">\n",
              "      <th></th>\n",
              "      <th>token</th>\n",
              "      <th>corrected</th>\n",
              "      <th>POS</th>\n",
              "      <th>lemmas</th>\n",
              "      <th>stems</th>\n",
              "    </tr>\n",
              "  </thead>\n",
              "  <tbody>\n",
              "    <tr>\n",
              "      <th>0</th>\n",
              "      <td>The</td>\n",
              "      <td>The</td>\n",
              "      <td>DT</td>\n",
              "      <td>The</td>\n",
              "      <td>the</td>\n",
              "    </tr>\n",
              "    <tr>\n",
              "      <th>1</th>\n",
              "      <td>misson</td>\n",
              "      <td>mission</td>\n",
              "      <td>NN</td>\n",
              "      <td>mission</td>\n",
              "      <td>mission</td>\n",
              "    </tr>\n",
              "    <tr>\n",
              "      <th>2</th>\n",
              "      <td>of</td>\n",
              "      <td>of</td>\n",
              "      <td>IN</td>\n",
              "      <td>of</td>\n",
              "      <td>of</td>\n",
              "    </tr>\n",
              "    <tr>\n",
              "      <th>3</th>\n",
              "      <td>the</td>\n",
              "      <td>the</td>\n",
              "      <td>DT</td>\n",
              "      <td>the</td>\n",
              "      <td>the</td>\n",
              "    </tr>\n",
              "    <tr>\n",
              "      <th>4</th>\n",
              "      <td>United</td>\n",
              "      <td>United</td>\n",
              "      <td>NNP</td>\n",
              "      <td>United</td>\n",
              "      <td>unit</td>\n",
              "    </tr>\n",
              "    <tr>\n",
              "      <th>5</th>\n",
              "      <td>States</td>\n",
              "      <td>States</td>\n",
              "      <td>NNPS</td>\n",
              "      <td>States</td>\n",
              "      <td>state</td>\n",
              "    </tr>\n",
              "    <tr>\n",
              "      <th>6</th>\n",
              "      <td>Air</td>\n",
              "      <td>Air</td>\n",
              "      <td>NNP</td>\n",
              "      <td>Air</td>\n",
              "      <td>air</td>\n",
              "    </tr>\n",
              "    <tr>\n",
              "      <th>7</th>\n",
              "      <td>Frce</td>\n",
              "      <td>Free</td>\n",
              "      <td>NNP</td>\n",
              "      <td>Free</td>\n",
              "      <td>free</td>\n",
              "    </tr>\n",
              "    <tr>\n",
              "      <th>8</th>\n",
              "      <td>is</td>\n",
              "      <td>is</td>\n",
              "      <td>VBZ</td>\n",
              "      <td>be</td>\n",
              "      <td>i</td>\n",
              "    </tr>\n",
              "    <tr>\n",
              "      <th>9</th>\n",
              "      <td>to</td>\n",
              "      <td>to</td>\n",
              "      <td>TO</td>\n",
              "      <td>to</td>\n",
              "      <td>to</td>\n",
              "    </tr>\n",
              "    <tr>\n",
              "      <th>10</th>\n",
              "      <td>fly</td>\n",
              "      <td>fly</td>\n",
              "      <td>VB</td>\n",
              "      <td>fly</td>\n",
              "      <td>fly</td>\n",
              "    </tr>\n",
              "    <tr>\n",
              "      <th>11</th>\n",
              "      <td>,</td>\n",
              "      <td>,</td>\n",
              "      <td>,</td>\n",
              "      <td>,</td>\n",
              "      <td>,</td>\n",
              "    </tr>\n",
              "    <tr>\n",
              "      <th>12</th>\n",
              "      <td>fight</td>\n",
              "      <td>fight</td>\n",
              "      <td>NN</td>\n",
              "      <td>fight</td>\n",
              "      <td>fight</td>\n",
              "    </tr>\n",
              "    <tr>\n",
              "      <th>13</th>\n",
              "      <td>and</td>\n",
              "      <td>and</td>\n",
              "      <td>CC</td>\n",
              "      <td>and</td>\n",
              "      <td>and</td>\n",
              "    </tr>\n",
              "    <tr>\n",
              "      <th>14</th>\n",
              "      <td>win</td>\n",
              "      <td>win</td>\n",
              "      <td>VB</td>\n",
              "      <td>win</td>\n",
              "      <td>win</td>\n",
              "    </tr>\n",
              "    <tr>\n",
              "      <th>15</th>\n",
              "      <td>-</td>\n",
              "      <td>-</td>\n",
              "      <td>:</td>\n",
              "      <td>-</td>\n",
              "      <td>-</td>\n",
              "    </tr>\n",
              "    <tr>\n",
              "      <th>16</th>\n",
              "      <td>airpower</td>\n",
              "      <td>airpower</td>\n",
              "      <td>NN</td>\n",
              "      <td>airpower</td>\n",
              "      <td>airpow</td>\n",
              "    </tr>\n",
              "    <tr>\n",
              "      <th>17</th>\n",
              "      <td>anytime</td>\n",
              "      <td>anytime</td>\n",
              "      <td>RB</td>\n",
              "      <td>anytime</td>\n",
              "      <td>anytim</td>\n",
              "    </tr>\n",
              "    <tr>\n",
              "      <th>18</th>\n",
              "      <td>,</td>\n",
              "      <td>,</td>\n",
              "      <td>,</td>\n",
              "      <td>,</td>\n",
              "      <td>,</td>\n",
              "    </tr>\n",
              "    <tr>\n",
              "      <th>19</th>\n",
              "      <td>nywhere</td>\n",
              "      <td>anywhere</td>\n",
              "      <td>RB</td>\n",
              "      <td>anywhere</td>\n",
              "      <td>anywher</td>\n",
              "    </tr>\n",
              "    <tr>\n",
              "      <th>20</th>\n",
              "      <td>.</td>\n",
              "      <td>.</td>\n",
              "      <td>.</td>\n",
              "      <td>.</td>\n",
              "      <td>.</td>\n",
              "    </tr>\n",
              "    <tr>\n",
              "      <th>21</th>\n",
              "      <td>Whether</td>\n",
              "      <td>Whether</td>\n",
              "      <td>IN</td>\n",
              "      <td>Whether</td>\n",
              "      <td>whether</td>\n",
              "    </tr>\n",
              "    <tr>\n",
              "      <th>22</th>\n",
              "      <td>full</td>\n",
              "      <td>full</td>\n",
              "      <td>JJ</td>\n",
              "      <td>full</td>\n",
              "      <td>full</td>\n",
              "    </tr>\n",
              "    <tr>\n",
              "      <th>23</th>\n",
              "      <td>time</td>\n",
              "      <td>time</td>\n",
              "      <td>NN</td>\n",
              "      <td>time</td>\n",
              "      <td>time</td>\n",
              "    </tr>\n",
              "    <tr>\n",
              "      <th>24</th>\n",
              "      <td>,</td>\n",
              "      <td>,</td>\n",
              "      <td>,</td>\n",
              "      <td>,</td>\n",
              "      <td>,</td>\n",
              "    </tr>\n",
              "    <tr>\n",
              "      <th>25</th>\n",
              "      <td>part</td>\n",
              "      <td>part</td>\n",
              "      <td>NN</td>\n",
              "      <td>part</td>\n",
              "      <td>part</td>\n",
              "    </tr>\n",
              "    <tr>\n",
              "      <th>26</th>\n",
              "      <td>time</td>\n",
              "      <td>time</td>\n",
              "      <td>NN</td>\n",
              "      <td>time</td>\n",
              "      <td>time</td>\n",
              "    </tr>\n",
              "    <tr>\n",
              "      <th>27</th>\n",
              "      <td>,</td>\n",
              "      <td>,</td>\n",
              "      <td>,</td>\n",
              "      <td>,</td>\n",
              "      <td>,</td>\n",
              "    </tr>\n",
              "    <tr>\n",
              "      <th>28</th>\n",
              "      <td>in</td>\n",
              "      <td>in</td>\n",
              "      <td>IN</td>\n",
              "      <td>in</td>\n",
              "      <td>in</td>\n",
              "    </tr>\n",
              "    <tr>\n",
              "      <th>29</th>\n",
              "      <td>or</td>\n",
              "      <td>or</td>\n",
              "      <td>CC</td>\n",
              "      <td>or</td>\n",
              "      <td>or</td>\n",
              "    </tr>\n",
              "    <tr>\n",
              "      <th>30</th>\n",
              "      <td>out</td>\n",
              "      <td>out</td>\n",
              "      <td>IN</td>\n",
              "      <td>out</td>\n",
              "      <td>out</td>\n",
              "    </tr>\n",
              "    <tr>\n",
              "      <th>31</th>\n",
              "      <td>of</td>\n",
              "      <td>of</td>\n",
              "      <td>IN</td>\n",
              "      <td>of</td>\n",
              "      <td>of</td>\n",
              "    </tr>\n",
              "    <tr>\n",
              "      <th>32</th>\n",
              "      <td>uniorm</td>\n",
              "      <td>uniform</td>\n",
              "      <td>NN</td>\n",
              "      <td>uniform</td>\n",
              "      <td>uniform</td>\n",
              "    </tr>\n",
              "    <tr>\n",
              "      <th>33</th>\n",
              "      <td>,</td>\n",
              "      <td>,</td>\n",
              "      <td>,</td>\n",
              "      <td>,</td>\n",
              "      <td>,</td>\n",
              "    </tr>\n",
              "    <tr>\n",
              "      <th>34</th>\n",
              "      <td>everyone</td>\n",
              "      <td>everyone</td>\n",
              "      <td>NN</td>\n",
              "      <td>everyone</td>\n",
              "      <td>everyon</td>\n",
              "    </tr>\n",
              "    <tr>\n",
              "      <th>35</th>\n",
              "      <td>who</td>\n",
              "      <td>who</td>\n",
              "      <td>WP</td>\n",
              "      <td>who</td>\n",
              "      <td>who</td>\n",
              "    </tr>\n",
              "    <tr>\n",
              "      <th>36</th>\n",
              "      <td>serves</td>\n",
              "      <td>serves</td>\n",
              "      <td>VBZ</td>\n",
              "      <td>serve</td>\n",
              "      <td>serv</td>\n",
              "    </tr>\n",
              "    <tr>\n",
              "      <th>37</th>\n",
              "      <td>plays</td>\n",
              "      <td>plays</td>\n",
              "      <td>VBZ</td>\n",
              "      <td>play</td>\n",
              "      <td>plai</td>\n",
              "    </tr>\n",
              "    <tr>\n",
              "      <th>38</th>\n",
              "      <td>a</td>\n",
              "      <td>a</td>\n",
              "      <td>DT</td>\n",
              "      <td>a</td>\n",
              "      <td>a</td>\n",
              "    </tr>\n",
              "    <tr>\n",
              "      <th>39</th>\n",
              "      <td>critial</td>\n",
              "      <td>critical</td>\n",
              "      <td>JJ</td>\n",
              "      <td>critical</td>\n",
              "      <td>critic</td>\n",
              "    </tr>\n",
              "    <tr>\n",
              "      <th>40</th>\n",
              "      <td>role</td>\n",
              "      <td>role</td>\n",
              "      <td>NN</td>\n",
              "      <td>role</td>\n",
              "      <td>role</td>\n",
              "    </tr>\n",
              "    <tr>\n",
              "      <th>41</th>\n",
              "      <td>in</td>\n",
              "      <td>in</td>\n",
              "      <td>IN</td>\n",
              "      <td>in</td>\n",
              "      <td>in</td>\n",
              "    </tr>\n",
              "    <tr>\n",
              "      <th>42</th>\n",
              "      <td>helping</td>\n",
              "      <td>helping</td>\n",
              "      <td>VBG</td>\n",
              "      <td>help</td>\n",
              "      <td>help</td>\n",
              "    </tr>\n",
              "    <tr>\n",
              "      <th>43</th>\n",
              "      <td>us</td>\n",
              "      <td>us</td>\n",
              "      <td>PRP</td>\n",
              "      <td>we</td>\n",
              "      <td>u</td>\n",
              "    </tr>\n",
              "    <tr>\n",
              "      <th>44</th>\n",
              "      <td>achieve</td>\n",
              "      <td>achieve</td>\n",
              "      <td>VBP</td>\n",
              "      <td>achieve</td>\n",
              "      <td>achiev</td>\n",
              "    </tr>\n",
              "    <tr>\n",
              "      <th>45</th>\n",
              "      <td>mission</td>\n",
              "      <td>mission</td>\n",
              "      <td>NN</td>\n",
              "      <td>mission</td>\n",
              "      <td>mission</td>\n",
              "    </tr>\n",
              "    <tr>\n",
              "      <th>46</th>\n",
              "      <td>sccess</td>\n",
              "      <td>access</td>\n",
              "      <td>NN</td>\n",
              "      <td>access</td>\n",
              "      <td>access</td>\n",
              "    </tr>\n",
              "    <tr>\n",
              "      <th>47</th>\n",
              "      <td>.</td>\n",
              "      <td>.</td>\n",
              "      <td>.</td>\n",
              "      <td>.</td>\n",
              "      <td>.</td>\n",
              "    </tr>\n",
              "  </tbody>\n",
              "</table>\n",
              "</div>\n",
              "      <button class=\"colab-df-convert\" onclick=\"convertToInteractive('df-24c77b47-f22b-4e96-b2ba-81a625990c99')\"\n",
              "              title=\"Convert this dataframe to an interactive table.\"\n",
              "              style=\"display:none;\">\n",
              "        \n",
              "  <svg xmlns=\"http://www.w3.org/2000/svg\" height=\"24px\"viewBox=\"0 0 24 24\"\n",
              "       width=\"24px\">\n",
              "    <path d=\"M0 0h24v24H0V0z\" fill=\"none\"/>\n",
              "    <path d=\"M18.56 5.44l.94 2.06.94-2.06 2.06-.94-2.06-.94-.94-2.06-.94 2.06-2.06.94zm-11 1L8.5 8.5l.94-2.06 2.06-.94-2.06-.94L8.5 2.5l-.94 2.06-2.06.94zm10 10l.94 2.06.94-2.06 2.06-.94-2.06-.94-.94-2.06-.94 2.06-2.06.94z\"/><path d=\"M17.41 7.96l-1.37-1.37c-.4-.4-.92-.59-1.43-.59-.52 0-1.04.2-1.43.59L10.3 9.45l-7.72 7.72c-.78.78-.78 2.05 0 2.83L4 21.41c.39.39.9.59 1.41.59.51 0 1.02-.2 1.41-.59l7.78-7.78 2.81-2.81c.8-.78.8-2.07 0-2.86zM5.41 20L4 18.59l7.72-7.72 1.47 1.35L5.41 20z\"/>\n",
              "  </svg>\n",
              "      </button>\n",
              "      \n",
              "  <style>\n",
              "    .colab-df-container {\n",
              "      display:flex;\n",
              "      flex-wrap:wrap;\n",
              "      gap: 12px;\n",
              "    }\n",
              "\n",
              "    .colab-df-convert {\n",
              "      background-color: #E8F0FE;\n",
              "      border: none;\n",
              "      border-radius: 50%;\n",
              "      cursor: pointer;\n",
              "      display: none;\n",
              "      fill: #1967D2;\n",
              "      height: 32px;\n",
              "      padding: 0 0 0 0;\n",
              "      width: 32px;\n",
              "    }\n",
              "\n",
              "    .colab-df-convert:hover {\n",
              "      background-color: #E2EBFA;\n",
              "      box-shadow: 0px 1px 2px rgba(60, 64, 67, 0.3), 0px 1px 3px 1px rgba(60, 64, 67, 0.15);\n",
              "      fill: #174EA6;\n",
              "    }\n",
              "\n",
              "    [theme=dark] .colab-df-convert {\n",
              "      background-color: #3B4455;\n",
              "      fill: #D2E3FC;\n",
              "    }\n",
              "\n",
              "    [theme=dark] .colab-df-convert:hover {\n",
              "      background-color: #434B5C;\n",
              "      box-shadow: 0px 1px 3px 1px rgba(0, 0, 0, 0.15);\n",
              "      filter: drop-shadow(0px 1px 2px rgba(0, 0, 0, 0.3));\n",
              "      fill: #FFFFFF;\n",
              "    }\n",
              "  </style>\n",
              "\n",
              "      <script>\n",
              "        const buttonEl =\n",
              "          document.querySelector('#df-24c77b47-f22b-4e96-b2ba-81a625990c99 button.colab-df-convert');\n",
              "        buttonEl.style.display =\n",
              "          google.colab.kernel.accessAllowed ? 'block' : 'none';\n",
              "\n",
              "        async function convertToInteractive(key) {\n",
              "          const element = document.querySelector('#df-24c77b47-f22b-4e96-b2ba-81a625990c99');\n",
              "          const dataTable =\n",
              "            await google.colab.kernel.invokeFunction('convertToInteractive',\n",
              "                                                     [key], {});\n",
              "          if (!dataTable) return;\n",
              "\n",
              "          const docLinkHtml = 'Like what you see? Visit the ' +\n",
              "            '<a target=\"_blank\" href=https://colab.research.google.com/notebooks/data_table.ipynb>data table notebook</a>'\n",
              "            + ' to learn more about interactive tables.';\n",
              "          element.innerHTML = '';\n",
              "          dataTable['output_type'] = 'display_data';\n",
              "          await google.colab.output.renderOutput(dataTable, element);\n",
              "          const docLink = document.createElement('div');\n",
              "          docLink.innerHTML = docLinkHtml;\n",
              "          element.appendChild(docLink);\n",
              "        }\n",
              "      </script>\n",
              "    </div>\n",
              "  </div>\n",
              "  "
            ],
            "text/plain": [
              "       token corrected   POS    lemmas    stems\n",
              "0        The       The    DT       The      the\n",
              "1     misson   mission    NN   mission  mission\n",
              "2         of        of    IN        of       of\n",
              "3        the       the    DT       the      the\n",
              "4     United    United   NNP    United     unit\n",
              "5     States    States  NNPS    States    state\n",
              "6        Air       Air   NNP       Air      air\n",
              "7       Frce      Free   NNP      Free     free\n",
              "8         is        is   VBZ        be        i\n",
              "9         to        to    TO        to       to\n",
              "10       fly       fly    VB       fly      fly\n",
              "11         ,         ,     ,         ,        ,\n",
              "12     fight     fight    NN     fight    fight\n",
              "13       and       and    CC       and      and\n",
              "14       win       win    VB       win      win\n",
              "15         -         -     :         -        -\n",
              "16  airpower  airpower    NN  airpower   airpow\n",
              "17   anytime   anytime    RB   anytime   anytim\n",
              "18         ,         ,     ,         ,        ,\n",
              "19   nywhere  anywhere    RB  anywhere  anywher\n",
              "20         .         .     .         .        .\n",
              "21   Whether   Whether    IN   Whether  whether\n",
              "22      full      full    JJ      full     full\n",
              "23      time      time    NN      time     time\n",
              "24         ,         ,     ,         ,        ,\n",
              "25      part      part    NN      part     part\n",
              "26      time      time    NN      time     time\n",
              "27         ,         ,     ,         ,        ,\n",
              "28        in        in    IN        in       in\n",
              "29        or        or    CC        or       or\n",
              "30       out       out    IN       out      out\n",
              "31        of        of    IN        of       of\n",
              "32    uniorm   uniform    NN   uniform  uniform\n",
              "33         ,         ,     ,         ,        ,\n",
              "34  everyone  everyone    NN  everyone  everyon\n",
              "35       who       who    WP       who      who\n",
              "36    serves    serves   VBZ     serve     serv\n",
              "37     plays     plays   VBZ      play     plai\n",
              "38         a         a    DT         a        a\n",
              "39   critial  critical    JJ  critical   critic\n",
              "40      role      role    NN      role     role\n",
              "41        in        in    IN        in       in\n",
              "42   helping   helping   VBG      help     help\n",
              "43        us        us   PRP        we        u\n",
              "44   achieve   achieve   VBP   achieve   achiev\n",
              "45   mission   mission    NN   mission  mission\n",
              "46    sccess    access    NN    access   access\n",
              "47         .         .     .         .        ."
            ]
          },
          "metadata": {},
          "execution_count": 16
        }
      ]
    },
    {
      "cell_type": "markdown",
      "source": [
        "**Explain Document DL**"
      ],
      "metadata": {
        "id": "jUU1SoZimvTu"
      }
    },
    {
      "cell_type": "code",
      "source": [
        "pipeline_dl = PretrainedPipeline('explain_document_dl', lang= 'en')"
      ],
      "metadata": {
        "colab": {
          "base_uri": "https://localhost:8080/"
        },
        "id": "aEgKOijGzgea",
        "outputId": "8553b063-1aba-46bc-d644-e0e5b7283325"
      },
      "execution_count": 17,
      "outputs": [
        {
          "output_type": "stream",
          "name": "stdout",
          "text": [
            "explain_document_dl download started this may take some time.\n",
            "Approx size to download 169.4 MB\n",
            "[OK!]\n"
          ]
        }
      ]
    },
    {
      "cell_type": "code",
      "source": [
        "pipeline_dl.model.stages"
      ],
      "metadata": {
        "colab": {
          "base_uri": "https://localhost:8080/"
        },
        "id": "fG6qDAJVzgbF",
        "outputId": "87a5b06c-82c1-4323-c45d-1c333fb92d1d"
      },
      "execution_count": 18,
      "outputs": [
        {
          "output_type": "execute_result",
          "data": {
            "text/plain": [
              "[document_7939d5bf1083,\n",
              " SENTENCE_05265b07c745,\n",
              " REGEX_TOKENIZER_c5c312143f63,\n",
              " SPELL_e4ea67180337,\n",
              " LEMMATIZER_c62ad8f355f9,\n",
              " STEMMER_ba49f7631065,\n",
              " POS_d01c734956fe,\n",
              " WORD_EMBEDDINGS_MODEL_48cffc8b9a76,\n",
              " NerDLModel_d4424c9af5f4,\n",
              " NER_CONVERTER_a81db9af2d23]"
            ]
          },
          "metadata": {},
          "execution_count": 18
        }
      ]
    },
    {
      "cell_type": "code",
      "source": [
        "pipeline_dl.model.stages[-2].getStorageRef()"
      ],
      "metadata": {
        "colab": {
          "base_uri": "https://localhost:8080/",
          "height": 35
        },
        "id": "1pNsFhEAzgYL",
        "outputId": "3aa9218f-2553-4e83-ebad-1edf24cb6b66"
      },
      "execution_count": 23,
      "outputs": [
        {
          "output_type": "execute_result",
          "data": {
            "application/vnd.google.colaboratory.intrinsic+json": {
              "type": "string"
            },
            "text/plain": [
              "'glove_100d'"
            ]
          },
          "metadata": {},
          "execution_count": 23
        }
      ]
    },
    {
      "cell_type": "code",
      "source": [
        "pipeline_dl.model.stages[-2].getClasses()"
      ],
      "metadata": {
        "colab": {
          "base_uri": "https://localhost:8080/"
        },
        "id": "nVc4J2Y0zgVY",
        "outputId": "1ee96dca-023c-4887-ed12-995b5bfb47c8"
      },
      "execution_count": 29,
      "outputs": [
        {
          "output_type": "execute_result",
          "data": {
            "text/plain": [
              "['O', 'B-ORG', 'B-LOC', 'B-PER', 'I-PER', 'I-ORG', 'B-MISC', 'I-LOC', 'I-MISC']"
            ]
          },
          "metadata": {},
          "execution_count": 29
        }
      ]
    },
    {
      "cell_type": "code",
      "source": [
        "%%time\n",
        "\n",
        "result = pipeline_dl.annotate(testDoc)\n",
        "\n",
        "result.keys()"
      ],
      "metadata": {
        "colab": {
          "base_uri": "https://localhost:8080/"
        },
        "id": "f8UYhjXhzgSP",
        "outputId": "fece9a37-36f8-47a8-dca1-40eecc1007c0"
      },
      "execution_count": 30,
      "outputs": [
        {
          "output_type": "stream",
          "name": "stdout",
          "text": [
            "CPU times: user 38.2 ms, sys: 5.35 ms, total: 43.5 ms\n",
            "Wall time: 1.49 s\n"
          ]
        }
      ]
    },
    {
      "cell_type": "code",
      "source": [
        "result.keys()"
      ],
      "metadata": {
        "colab": {
          "base_uri": "https://localhost:8080/"
        },
        "id": "SNMBwX5EzgO3",
        "outputId": "d2692574-ddf7-4eb3-f7a9-23c3a7fd2972"
      },
      "execution_count": 31,
      "outputs": [
        {
          "output_type": "execute_result",
          "data": {
            "text/plain": [
              "dict_keys(['entities', 'stem', 'checked', 'lemma', 'document', 'pos', 'token', 'ner', 'embeddings', 'sentence'])"
            ]
          },
          "metadata": {},
          "execution_count": 31
        }
      ]
    },
    {
      "cell_type": "code",
      "source": [
        "result['entities']"
      ],
      "metadata": {
        "colab": {
          "base_uri": "https://localhost:8080/"
        },
        "id": "p64kQPqlzgGH",
        "outputId": "4200ce27-3f2c-49ff-ae43-1f372140ae88"
      },
      "execution_count": 32,
      "outputs": [
        {
          "output_type": "execute_result",
          "data": {
            "text/plain": [
              "['United States Air Frce']"
            ]
          },
          "metadata": {},
          "execution_count": 32
        }
      ]
    },
    {
      "cell_type": "code",
      "source": [
        "result['lemma']"
      ],
      "metadata": {
        "colab": {
          "base_uri": "https://localhost:8080/"
        },
        "id": "iOnTspxPzf2x",
        "outputId": "926db962-4cac-4949-9d9b-5dd69c40a58b"
      },
      "execution_count": 34,
      "outputs": [
        {
          "output_type": "execute_result",
          "data": {
            "text/plain": [
              "['The',\n",
              " 'mission',\n",
              " 'of',\n",
              " 'the',\n",
              " 'United',\n",
              " 'States',\n",
              " 'Air',\n",
              " 'Free',\n",
              " 'be',\n",
              " 'to',\n",
              " 'fly',\n",
              " ',',\n",
              " 'fight',\n",
              " 'and',\n",
              " 'win',\n",
              " '-',\n",
              " 'airpower',\n",
              " 'anytime',\n",
              " ',',\n",
              " 'anywhere',\n",
              " '.',\n",
              " 'Whether',\n",
              " 'full',\n",
              " 'time',\n",
              " ',',\n",
              " 'part',\n",
              " 'time',\n",
              " ',',\n",
              " 'in',\n",
              " 'or',\n",
              " 'out',\n",
              " 'of',\n",
              " 'uniform',\n",
              " ',',\n",
              " 'everyone',\n",
              " 'who',\n",
              " 'serve',\n",
              " 'play',\n",
              " 'a',\n",
              " 'critical',\n",
              " 'role',\n",
              " 'in',\n",
              " 'help',\n",
              " 'we',\n",
              " 'achieve',\n",
              " 'mission',\n",
              " 'access',\n",
              " '.']"
            ]
          },
          "metadata": {},
          "execution_count": 34
        }
      ]
    },
    {
      "cell_type": "code",
      "source": [
        "df = pd.DataFrame({'token':result['token'], 'ner_label':result['ner'],\n",
        "                      'spell_corrected':result['checked'], 'POS':result['pos'],\n",
        "                      'lemmas':result['lemma'], 'stems':result['stem']})"
      ],
      "metadata": {
        "id": "x7AqxwVa1uqG"
      },
      "execution_count": 35,
      "outputs": []
    },
    {
      "cell_type": "code",
      "source": [
        "df"
      ],
      "metadata": {
        "colab": {
          "base_uri": "https://localhost:8080/",
          "height": 1000
        },
        "id": "i5aZndke1vhd",
        "outputId": "6a1198ff-373f-4f01-c1c8-d2c76aabe071"
      },
      "execution_count": 36,
      "outputs": [
        {
          "output_type": "execute_result",
          "data": {
            "text/html": [
              "\n",
              "  <div id=\"df-61116ff9-b591-48be-b2b4-2bd928f09052\">\n",
              "    <div class=\"colab-df-container\">\n",
              "      <div>\n",
              "<style scoped>\n",
              "    .dataframe tbody tr th:only-of-type {\n",
              "        vertical-align: middle;\n",
              "    }\n",
              "\n",
              "    .dataframe tbody tr th {\n",
              "        vertical-align: top;\n",
              "    }\n",
              "\n",
              "    .dataframe thead th {\n",
              "        text-align: right;\n",
              "    }\n",
              "</style>\n",
              "<table border=\"1\" class=\"dataframe\">\n",
              "  <thead>\n",
              "    <tr style=\"text-align: right;\">\n",
              "      <th></th>\n",
              "      <th>token</th>\n",
              "      <th>ner_label</th>\n",
              "      <th>spell_corrected</th>\n",
              "      <th>POS</th>\n",
              "      <th>lemmas</th>\n",
              "      <th>stems</th>\n",
              "    </tr>\n",
              "  </thead>\n",
              "  <tbody>\n",
              "    <tr>\n",
              "      <th>0</th>\n",
              "      <td>The</td>\n",
              "      <td>O</td>\n",
              "      <td>The</td>\n",
              "      <td>DT</td>\n",
              "      <td>The</td>\n",
              "      <td>the</td>\n",
              "    </tr>\n",
              "    <tr>\n",
              "      <th>1</th>\n",
              "      <td>misson</td>\n",
              "      <td>O</td>\n",
              "      <td>mission</td>\n",
              "      <td>NN</td>\n",
              "      <td>mission</td>\n",
              "      <td>mission</td>\n",
              "    </tr>\n",
              "    <tr>\n",
              "      <th>2</th>\n",
              "      <td>of</td>\n",
              "      <td>O</td>\n",
              "      <td>of</td>\n",
              "      <td>IN</td>\n",
              "      <td>of</td>\n",
              "      <td>of</td>\n",
              "    </tr>\n",
              "    <tr>\n",
              "      <th>3</th>\n",
              "      <td>the</td>\n",
              "      <td>O</td>\n",
              "      <td>the</td>\n",
              "      <td>DT</td>\n",
              "      <td>the</td>\n",
              "      <td>the</td>\n",
              "    </tr>\n",
              "    <tr>\n",
              "      <th>4</th>\n",
              "      <td>United</td>\n",
              "      <td>B-ORG</td>\n",
              "      <td>United</td>\n",
              "      <td>NNP</td>\n",
              "      <td>United</td>\n",
              "      <td>unit</td>\n",
              "    </tr>\n",
              "    <tr>\n",
              "      <th>5</th>\n",
              "      <td>States</td>\n",
              "      <td>I-ORG</td>\n",
              "      <td>States</td>\n",
              "      <td>NNPS</td>\n",
              "      <td>States</td>\n",
              "      <td>state</td>\n",
              "    </tr>\n",
              "    <tr>\n",
              "      <th>6</th>\n",
              "      <td>Air</td>\n",
              "      <td>I-ORG</td>\n",
              "      <td>Air</td>\n",
              "      <td>NNP</td>\n",
              "      <td>Air</td>\n",
              "      <td>air</td>\n",
              "    </tr>\n",
              "    <tr>\n",
              "      <th>7</th>\n",
              "      <td>Frce</td>\n",
              "      <td>I-ORG</td>\n",
              "      <td>Free</td>\n",
              "      <td>NNP</td>\n",
              "      <td>Free</td>\n",
              "      <td>free</td>\n",
              "    </tr>\n",
              "    <tr>\n",
              "      <th>8</th>\n",
              "      <td>is</td>\n",
              "      <td>O</td>\n",
              "      <td>is</td>\n",
              "      <td>VBZ</td>\n",
              "      <td>be</td>\n",
              "      <td>i</td>\n",
              "    </tr>\n",
              "    <tr>\n",
              "      <th>9</th>\n",
              "      <td>to</td>\n",
              "      <td>O</td>\n",
              "      <td>to</td>\n",
              "      <td>TO</td>\n",
              "      <td>to</td>\n",
              "      <td>to</td>\n",
              "    </tr>\n",
              "    <tr>\n",
              "      <th>10</th>\n",
              "      <td>fly</td>\n",
              "      <td>O</td>\n",
              "      <td>fly</td>\n",
              "      <td>VB</td>\n",
              "      <td>fly</td>\n",
              "      <td>fly</td>\n",
              "    </tr>\n",
              "    <tr>\n",
              "      <th>11</th>\n",
              "      <td>,</td>\n",
              "      <td>O</td>\n",
              "      <td>,</td>\n",
              "      <td>,</td>\n",
              "      <td>,</td>\n",
              "      <td>,</td>\n",
              "    </tr>\n",
              "    <tr>\n",
              "      <th>12</th>\n",
              "      <td>fight</td>\n",
              "      <td>O</td>\n",
              "      <td>fight</td>\n",
              "      <td>NN</td>\n",
              "      <td>fight</td>\n",
              "      <td>fight</td>\n",
              "    </tr>\n",
              "    <tr>\n",
              "      <th>13</th>\n",
              "      <td>and</td>\n",
              "      <td>O</td>\n",
              "      <td>and</td>\n",
              "      <td>CC</td>\n",
              "      <td>and</td>\n",
              "      <td>and</td>\n",
              "    </tr>\n",
              "    <tr>\n",
              "      <th>14</th>\n",
              "      <td>win</td>\n",
              "      <td>O</td>\n",
              "      <td>win</td>\n",
              "      <td>VB</td>\n",
              "      <td>win</td>\n",
              "      <td>win</td>\n",
              "    </tr>\n",
              "    <tr>\n",
              "      <th>15</th>\n",
              "      <td>-</td>\n",
              "      <td>O</td>\n",
              "      <td>-</td>\n",
              "      <td>:</td>\n",
              "      <td>-</td>\n",
              "      <td>-</td>\n",
              "    </tr>\n",
              "    <tr>\n",
              "      <th>16</th>\n",
              "      <td>airpower</td>\n",
              "      <td>O</td>\n",
              "      <td>airpower</td>\n",
              "      <td>NN</td>\n",
              "      <td>airpower</td>\n",
              "      <td>airpow</td>\n",
              "    </tr>\n",
              "    <tr>\n",
              "      <th>17</th>\n",
              "      <td>anytime</td>\n",
              "      <td>O</td>\n",
              "      <td>anytime</td>\n",
              "      <td>NN</td>\n",
              "      <td>anytime</td>\n",
              "      <td>anytim</td>\n",
              "    </tr>\n",
              "    <tr>\n",
              "      <th>18</th>\n",
              "      <td>,</td>\n",
              "      <td>O</td>\n",
              "      <td>,</td>\n",
              "      <td>,</td>\n",
              "      <td>,</td>\n",
              "      <td>,</td>\n",
              "    </tr>\n",
              "    <tr>\n",
              "      <th>19</th>\n",
              "      <td>nywhere</td>\n",
              "      <td>O</td>\n",
              "      <td>anywhere</td>\n",
              "      <td>RB</td>\n",
              "      <td>anywhere</td>\n",
              "      <td>anywher</td>\n",
              "    </tr>\n",
              "    <tr>\n",
              "      <th>20</th>\n",
              "      <td>.</td>\n",
              "      <td>O</td>\n",
              "      <td>.</td>\n",
              "      <td>.</td>\n",
              "      <td>.</td>\n",
              "      <td>.</td>\n",
              "    </tr>\n",
              "    <tr>\n",
              "      <th>21</th>\n",
              "      <td>Whether</td>\n",
              "      <td>O</td>\n",
              "      <td>Whether</td>\n",
              "      <td>IN</td>\n",
              "      <td>Whether</td>\n",
              "      <td>whether</td>\n",
              "    </tr>\n",
              "    <tr>\n",
              "      <th>22</th>\n",
              "      <td>full</td>\n",
              "      <td>O</td>\n",
              "      <td>full</td>\n",
              "      <td>JJ</td>\n",
              "      <td>full</td>\n",
              "      <td>full</td>\n",
              "    </tr>\n",
              "    <tr>\n",
              "      <th>23</th>\n",
              "      <td>time</td>\n",
              "      <td>O</td>\n",
              "      <td>time</td>\n",
              "      <td>NN</td>\n",
              "      <td>time</td>\n",
              "      <td>time</td>\n",
              "    </tr>\n",
              "    <tr>\n",
              "      <th>24</th>\n",
              "      <td>,</td>\n",
              "      <td>O</td>\n",
              "      <td>,</td>\n",
              "      <td>,</td>\n",
              "      <td>,</td>\n",
              "      <td>,</td>\n",
              "    </tr>\n",
              "    <tr>\n",
              "      <th>25</th>\n",
              "      <td>part</td>\n",
              "      <td>O</td>\n",
              "      <td>part</td>\n",
              "      <td>NN</td>\n",
              "      <td>part</td>\n",
              "      <td>part</td>\n",
              "    </tr>\n",
              "    <tr>\n",
              "      <th>26</th>\n",
              "      <td>time</td>\n",
              "      <td>O</td>\n",
              "      <td>time</td>\n",
              "      <td>NN</td>\n",
              "      <td>time</td>\n",
              "      <td>time</td>\n",
              "    </tr>\n",
              "    <tr>\n",
              "      <th>27</th>\n",
              "      <td>,</td>\n",
              "      <td>O</td>\n",
              "      <td>,</td>\n",
              "      <td>,</td>\n",
              "      <td>,</td>\n",
              "      <td>,</td>\n",
              "    </tr>\n",
              "    <tr>\n",
              "      <th>28</th>\n",
              "      <td>in</td>\n",
              "      <td>O</td>\n",
              "      <td>in</td>\n",
              "      <td>IN</td>\n",
              "      <td>in</td>\n",
              "      <td>in</td>\n",
              "    </tr>\n",
              "    <tr>\n",
              "      <th>29</th>\n",
              "      <td>or</td>\n",
              "      <td>O</td>\n",
              "      <td>or</td>\n",
              "      <td>CC</td>\n",
              "      <td>or</td>\n",
              "      <td>or</td>\n",
              "    </tr>\n",
              "    <tr>\n",
              "      <th>30</th>\n",
              "      <td>out</td>\n",
              "      <td>O</td>\n",
              "      <td>out</td>\n",
              "      <td>IN</td>\n",
              "      <td>out</td>\n",
              "      <td>out</td>\n",
              "    </tr>\n",
              "    <tr>\n",
              "      <th>31</th>\n",
              "      <td>of</td>\n",
              "      <td>O</td>\n",
              "      <td>of</td>\n",
              "      <td>IN</td>\n",
              "      <td>of</td>\n",
              "      <td>of</td>\n",
              "    </tr>\n",
              "    <tr>\n",
              "      <th>32</th>\n",
              "      <td>uniorm</td>\n",
              "      <td>O</td>\n",
              "      <td>uniform</td>\n",
              "      <td>NN</td>\n",
              "      <td>uniform</td>\n",
              "      <td>uniform</td>\n",
              "    </tr>\n",
              "    <tr>\n",
              "      <th>33</th>\n",
              "      <td>,</td>\n",
              "      <td>O</td>\n",
              "      <td>,</td>\n",
              "      <td>,</td>\n",
              "      <td>,</td>\n",
              "      <td>,</td>\n",
              "    </tr>\n",
              "    <tr>\n",
              "      <th>34</th>\n",
              "      <td>everyone</td>\n",
              "      <td>O</td>\n",
              "      <td>everyone</td>\n",
              "      <td>NN</td>\n",
              "      <td>everyone</td>\n",
              "      <td>everyon</td>\n",
              "    </tr>\n",
              "    <tr>\n",
              "      <th>35</th>\n",
              "      <td>who</td>\n",
              "      <td>O</td>\n",
              "      <td>who</td>\n",
              "      <td>WP</td>\n",
              "      <td>who</td>\n",
              "      <td>who</td>\n",
              "    </tr>\n",
              "    <tr>\n",
              "      <th>36</th>\n",
              "      <td>serves</td>\n",
              "      <td>O</td>\n",
              "      <td>serves</td>\n",
              "      <td>VBZ</td>\n",
              "      <td>serve</td>\n",
              "      <td>serv</td>\n",
              "    </tr>\n",
              "    <tr>\n",
              "      <th>37</th>\n",
              "      <td>plays</td>\n",
              "      <td>O</td>\n",
              "      <td>plays</td>\n",
              "      <td>VBZ</td>\n",
              "      <td>play</td>\n",
              "      <td>plai</td>\n",
              "    </tr>\n",
              "    <tr>\n",
              "      <th>38</th>\n",
              "      <td>a</td>\n",
              "      <td>O</td>\n",
              "      <td>a</td>\n",
              "      <td>DT</td>\n",
              "      <td>a</td>\n",
              "      <td>a</td>\n",
              "    </tr>\n",
              "    <tr>\n",
              "      <th>39</th>\n",
              "      <td>critial</td>\n",
              "      <td>O</td>\n",
              "      <td>critical</td>\n",
              "      <td>JJ</td>\n",
              "      <td>critical</td>\n",
              "      <td>critic</td>\n",
              "    </tr>\n",
              "    <tr>\n",
              "      <th>40</th>\n",
              "      <td>role</td>\n",
              "      <td>O</td>\n",
              "      <td>role</td>\n",
              "      <td>NN</td>\n",
              "      <td>role</td>\n",
              "      <td>role</td>\n",
              "    </tr>\n",
              "    <tr>\n",
              "      <th>41</th>\n",
              "      <td>in</td>\n",
              "      <td>O</td>\n",
              "      <td>in</td>\n",
              "      <td>IN</td>\n",
              "      <td>in</td>\n",
              "      <td>in</td>\n",
              "    </tr>\n",
              "    <tr>\n",
              "      <th>42</th>\n",
              "      <td>helping</td>\n",
              "      <td>O</td>\n",
              "      <td>helping</td>\n",
              "      <td>VBG</td>\n",
              "      <td>help</td>\n",
              "      <td>help</td>\n",
              "    </tr>\n",
              "    <tr>\n",
              "      <th>43</th>\n",
              "      <td>us</td>\n",
              "      <td>O</td>\n",
              "      <td>us</td>\n",
              "      <td>PRP</td>\n",
              "      <td>we</td>\n",
              "      <td>u</td>\n",
              "    </tr>\n",
              "    <tr>\n",
              "      <th>44</th>\n",
              "      <td>achieve</td>\n",
              "      <td>O</td>\n",
              "      <td>achieve</td>\n",
              "      <td>VBP</td>\n",
              "      <td>achieve</td>\n",
              "      <td>achiev</td>\n",
              "    </tr>\n",
              "    <tr>\n",
              "      <th>45</th>\n",
              "      <td>mission</td>\n",
              "      <td>O</td>\n",
              "      <td>mission</td>\n",
              "      <td>NN</td>\n",
              "      <td>mission</td>\n",
              "      <td>mission</td>\n",
              "    </tr>\n",
              "    <tr>\n",
              "      <th>46</th>\n",
              "      <td>sccess</td>\n",
              "      <td>O</td>\n",
              "      <td>access</td>\n",
              "      <td>NN</td>\n",
              "      <td>access</td>\n",
              "      <td>access</td>\n",
              "    </tr>\n",
              "    <tr>\n",
              "      <th>47</th>\n",
              "      <td>.</td>\n",
              "      <td>O</td>\n",
              "      <td>.</td>\n",
              "      <td>.</td>\n",
              "      <td>.</td>\n",
              "      <td>.</td>\n",
              "    </tr>\n",
              "  </tbody>\n",
              "</table>\n",
              "</div>\n",
              "      <button class=\"colab-df-convert\" onclick=\"convertToInteractive('df-61116ff9-b591-48be-b2b4-2bd928f09052')\"\n",
              "              title=\"Convert this dataframe to an interactive table.\"\n",
              "              style=\"display:none;\">\n",
              "        \n",
              "  <svg xmlns=\"http://www.w3.org/2000/svg\" height=\"24px\"viewBox=\"0 0 24 24\"\n",
              "       width=\"24px\">\n",
              "    <path d=\"M0 0h24v24H0V0z\" fill=\"none\"/>\n",
              "    <path d=\"M18.56 5.44l.94 2.06.94-2.06 2.06-.94-2.06-.94-.94-2.06-.94 2.06-2.06.94zm-11 1L8.5 8.5l.94-2.06 2.06-.94-2.06-.94L8.5 2.5l-.94 2.06-2.06.94zm10 10l.94 2.06.94-2.06 2.06-.94-2.06-.94-.94-2.06-.94 2.06-2.06.94z\"/><path d=\"M17.41 7.96l-1.37-1.37c-.4-.4-.92-.59-1.43-.59-.52 0-1.04.2-1.43.59L10.3 9.45l-7.72 7.72c-.78.78-.78 2.05 0 2.83L4 21.41c.39.39.9.59 1.41.59.51 0 1.02-.2 1.41-.59l7.78-7.78 2.81-2.81c.8-.78.8-2.07 0-2.86zM5.41 20L4 18.59l7.72-7.72 1.47 1.35L5.41 20z\"/>\n",
              "  </svg>\n",
              "      </button>\n",
              "      \n",
              "  <style>\n",
              "    .colab-df-container {\n",
              "      display:flex;\n",
              "      flex-wrap:wrap;\n",
              "      gap: 12px;\n",
              "    }\n",
              "\n",
              "    .colab-df-convert {\n",
              "      background-color: #E8F0FE;\n",
              "      border: none;\n",
              "      border-radius: 50%;\n",
              "      cursor: pointer;\n",
              "      display: none;\n",
              "      fill: #1967D2;\n",
              "      height: 32px;\n",
              "      padding: 0 0 0 0;\n",
              "      width: 32px;\n",
              "    }\n",
              "\n",
              "    .colab-df-convert:hover {\n",
              "      background-color: #E2EBFA;\n",
              "      box-shadow: 0px 1px 2px rgba(60, 64, 67, 0.3), 0px 1px 3px 1px rgba(60, 64, 67, 0.15);\n",
              "      fill: #174EA6;\n",
              "    }\n",
              "\n",
              "    [theme=dark] .colab-df-convert {\n",
              "      background-color: #3B4455;\n",
              "      fill: #D2E3FC;\n",
              "    }\n",
              "\n",
              "    [theme=dark] .colab-df-convert:hover {\n",
              "      background-color: #434B5C;\n",
              "      box-shadow: 0px 1px 3px 1px rgba(0, 0, 0, 0.15);\n",
              "      filter: drop-shadow(0px 1px 2px rgba(0, 0, 0, 0.3));\n",
              "      fill: #FFFFFF;\n",
              "    }\n",
              "  </style>\n",
              "\n",
              "      <script>\n",
              "        const buttonEl =\n",
              "          document.querySelector('#df-61116ff9-b591-48be-b2b4-2bd928f09052 button.colab-df-convert');\n",
              "        buttonEl.style.display =\n",
              "          google.colab.kernel.accessAllowed ? 'block' : 'none';\n",
              "\n",
              "        async function convertToInteractive(key) {\n",
              "          const element = document.querySelector('#df-61116ff9-b591-48be-b2b4-2bd928f09052');\n",
              "          const dataTable =\n",
              "            await google.colab.kernel.invokeFunction('convertToInteractive',\n",
              "                                                     [key], {});\n",
              "          if (!dataTable) return;\n",
              "\n",
              "          const docLinkHtml = 'Like what you see? Visit the ' +\n",
              "            '<a target=\"_blank\" href=https://colab.research.google.com/notebooks/data_table.ipynb>data table notebook</a>'\n",
              "            + ' to learn more about interactive tables.';\n",
              "          element.innerHTML = '';\n",
              "          dataTable['output_type'] = 'display_data';\n",
              "          await google.colab.output.renderOutput(dataTable, element);\n",
              "          const docLink = document.createElement('div');\n",
              "          docLink.innerHTML = docLinkHtml;\n",
              "          element.appendChild(docLink);\n",
              "        }\n",
              "      </script>\n",
              "    </div>\n",
              "  </div>\n",
              "  "
            ],
            "text/plain": [
              "       token ner_label spell_corrected   POS    lemmas    stems\n",
              "0        The         O             The    DT       The      the\n",
              "1     misson         O         mission    NN   mission  mission\n",
              "2         of         O              of    IN        of       of\n",
              "3        the         O             the    DT       the      the\n",
              "4     United     B-ORG          United   NNP    United     unit\n",
              "5     States     I-ORG          States  NNPS    States    state\n",
              "6        Air     I-ORG             Air   NNP       Air      air\n",
              "7       Frce     I-ORG            Free   NNP      Free     free\n",
              "8         is         O              is   VBZ        be        i\n",
              "9         to         O              to    TO        to       to\n",
              "10       fly         O             fly    VB       fly      fly\n",
              "11         ,         O               ,     ,         ,        ,\n",
              "12     fight         O           fight    NN     fight    fight\n",
              "13       and         O             and    CC       and      and\n",
              "14       win         O             win    VB       win      win\n",
              "15         -         O               -     :         -        -\n",
              "16  airpower         O        airpower    NN  airpower   airpow\n",
              "17   anytime         O         anytime    NN   anytime   anytim\n",
              "18         ,         O               ,     ,         ,        ,\n",
              "19   nywhere         O        anywhere    RB  anywhere  anywher\n",
              "20         .         O               .     .         .        .\n",
              "21   Whether         O         Whether    IN   Whether  whether\n",
              "22      full         O            full    JJ      full     full\n",
              "23      time         O            time    NN      time     time\n",
              "24         ,         O               ,     ,         ,        ,\n",
              "25      part         O            part    NN      part     part\n",
              "26      time         O            time    NN      time     time\n",
              "27         ,         O               ,     ,         ,        ,\n",
              "28        in         O              in    IN        in       in\n",
              "29        or         O              or    CC        or       or\n",
              "30       out         O             out    IN       out      out\n",
              "31        of         O              of    IN        of       of\n",
              "32    uniorm         O         uniform    NN   uniform  uniform\n",
              "33         ,         O               ,     ,         ,        ,\n",
              "34  everyone         O        everyone    NN  everyone  everyon\n",
              "35       who         O             who    WP       who      who\n",
              "36    serves         O          serves   VBZ     serve     serv\n",
              "37     plays         O           plays   VBZ      play     plai\n",
              "38         a         O               a    DT         a        a\n",
              "39   critial         O        critical    JJ  critical   critic\n",
              "40      role         O            role    NN      role     role\n",
              "41        in         O              in    IN        in       in\n",
              "42   helping         O         helping   VBG      help     help\n",
              "43        us         O              us   PRP        we        u\n",
              "44   achieve         O         achieve   VBP   achieve   achiev\n",
              "45   mission         O         mission    NN   mission  mission\n",
              "46    sccess         O          access    NN    access   access\n",
              "47         .         O               .     .         .        ."
            ]
          },
          "metadata": {},
          "execution_count": 36
        }
      ]
    },
    {
      "cell_type": "markdown",
      "source": [
        "**Recognize Entities DL**"
      ],
      "metadata": {
        "id": "60J6X6E52q_U"
      }
    },
    {
      "cell_type": "code",
      "source": [
        "recognize_entities = PretrainedPipeline('recognize_entities_dl', lang='en')"
      ],
      "metadata": {
        "colab": {
          "base_uri": "https://localhost:8080/"
        },
        "id": "18kZnRZW2usv",
        "outputId": "7b8df52d-7e45-49cc-aeba-d248a0fc7b69"
      },
      "execution_count": 37,
      "outputs": [
        {
          "output_type": "stream",
          "name": "stdout",
          "text": [
            "recognize_entities_dl download started this may take some time.\n",
            "Approx size to download 160.1 MB\n",
            "[OK!]\n"
          ]
        }
      ]
    },
    {
      "cell_type": "code",
      "source": [
        "recognize_entities.model.stages"
      ],
      "metadata": {
        "colab": {
          "base_uri": "https://localhost:8080/"
        },
        "id": "fjGMt_2m1vn_",
        "outputId": "837cb98a-bba6-4b96-9181-28051461f980"
      },
      "execution_count": 38,
      "outputs": [
        {
          "output_type": "execute_result",
          "data": {
            "text/plain": [
              "[document_1c58bc1aca5d,\n",
              " SENTENCE_328d8a47c1a8,\n",
              " REGEX_TOKENIZER_b6c4cbc5a4ea,\n",
              " WORD_EMBEDDINGS_MODEL_48cffc8b9a76,\n",
              " NerDLModel_d4424c9af5f4,\n",
              " NER_CONVERTER_389b80afbf7d]"
            ]
          },
          "metadata": {},
          "execution_count": 38
        }
      ]
    },
    {
      "cell_type": "code",
      "source": [
        "recognize_entities.model.stages[3].getStorageRef()"
      ],
      "metadata": {
        "colab": {
          "base_uri": "https://localhost:8080/",
          "height": 35
        },
        "id": "5J455AQH1vqs",
        "outputId": "79017476-c652-48d7-fd53-6ca08ff23ef5"
      },
      "execution_count": 41,
      "outputs": [
        {
          "output_type": "execute_result",
          "data": {
            "application/vnd.google.colaboratory.intrinsic+json": {
              "type": "string"
            },
            "text/plain": [
              "'glove_100d'"
            ]
          },
          "metadata": {},
          "execution_count": 41
        }
      ]
    },
    {
      "cell_type": "code",
      "source": [
        "recognize_entities.model.stages[4].getClasses()"
      ],
      "metadata": {
        "colab": {
          "base_uri": "https://localhost:8080/"
        },
        "id": "iQKUR5t81vtU",
        "outputId": "c6bac1dd-7b76-4ec6-996b-01659ba14f99"
      },
      "execution_count": 43,
      "outputs": [
        {
          "output_type": "execute_result",
          "data": {
            "text/plain": [
              "['O', 'B-ORG', 'B-LOC', 'B-PER', 'I-PER', 'I-ORG', 'B-MISC', 'I-LOC', 'I-MISC']"
            ]
          },
          "metadata": {},
          "execution_count": 43
        }
      ]
    },
    {
      "cell_type": "code",
      "source": [
        "testDoc"
      ],
      "metadata": {
        "colab": {
          "base_uri": "https://localhost:8080/",
          "height": 53
        },
        "id": "3F2W_P1v42N7",
        "outputId": "90e85180-085a-42ce-d6aa-22649689ebee"
      },
      "execution_count": 44,
      "outputs": [
        {
          "output_type": "execute_result",
          "data": {
            "application/vnd.google.colaboratory.intrinsic+json": {
              "type": "string"
            },
            "text/plain": [
              "'\\nThe misson of the United States Air Frce is to fly, fight and win - airpower anytime, nywhere. Whether full time, part time, in or out of uniorm, everyone who serves plays a critial role in helping us achieve mission sccess.\\n'"
            ]
          },
          "metadata": {},
          "execution_count": 44
        }
      ]
    },
    {
      "cell_type": "code",
      "source": [
        "result = recognize_entities.annotate(testDoc)"
      ],
      "metadata": {
        "id": "iZ1h6WZM43OV"
      },
      "execution_count": 46,
      "outputs": []
    },
    {
      "cell_type": "code",
      "source": [
        "list(zip(result['token'], result['ner']))"
      ],
      "metadata": {
        "colab": {
          "base_uri": "https://localhost:8080/"
        },
        "id": "fprMYwzh43RL",
        "outputId": "92e34140-b390-46a5-9881-20762dc2c07e"
      },
      "execution_count": 47,
      "outputs": [
        {
          "output_type": "execute_result",
          "data": {
            "text/plain": [
              "[('The', 'O'),\n",
              " ('misson', 'O'),\n",
              " ('of', 'O'),\n",
              " ('the', 'O'),\n",
              " ('United', 'B-ORG'),\n",
              " ('States', 'I-ORG'),\n",
              " ('Air', 'I-ORG'),\n",
              " ('Frce', 'I-ORG'),\n",
              " ('is', 'O'),\n",
              " ('to', 'O'),\n",
              " ('fly', 'O'),\n",
              " (',', 'O'),\n",
              " ('fight', 'O'),\n",
              " ('and', 'O'),\n",
              " ('win', 'O'),\n",
              " ('-', 'O'),\n",
              " ('airpower', 'O'),\n",
              " ('anytime', 'O'),\n",
              " (',', 'O'),\n",
              " ('nywhere', 'O'),\n",
              " ('.', 'O'),\n",
              " ('Whether', 'O'),\n",
              " ('full', 'O'),\n",
              " ('time', 'O'),\n",
              " (',', 'O'),\n",
              " ('part', 'O'),\n",
              " ('time', 'O'),\n",
              " (',', 'O'),\n",
              " ('in', 'O'),\n",
              " ('or', 'O'),\n",
              " ('out', 'O'),\n",
              " ('of', 'O'),\n",
              " ('uniorm', 'O'),\n",
              " (',', 'O'),\n",
              " ('everyone', 'O'),\n",
              " ('who', 'O'),\n",
              " ('serves', 'O'),\n",
              " ('plays', 'O'),\n",
              " ('a', 'O'),\n",
              " ('critial', 'O'),\n",
              " ('role', 'O'),\n",
              " ('in', 'O'),\n",
              " ('helping', 'O'),\n",
              " ('us', 'O'),\n",
              " ('achieve', 'O'),\n",
              " ('mission', 'O'),\n",
              " ('sccess', 'O'),\n",
              " ('.', 'O')]"
            ]
          },
          "metadata": {},
          "execution_count": 47
        }
      ]
    },
    {
      "cell_type": "markdown",
      "source": [
        "**Clean Stop Words**"
      ],
      "metadata": {
        "id": "pcn_qaxf5gxq"
      }
    },
    {
      "cell_type": "code",
      "source": [
        "clean_stop = PretrainedPipeline('clean_stop', lang='en')"
      ],
      "metadata": {
        "colab": {
          "base_uri": "https://localhost:8080/"
        },
        "id": "sE-jVoOH43T5",
        "outputId": "8ee51f87-6d31-4069-fb4c-30b08cd984ca"
      },
      "execution_count": 48,
      "outputs": [
        {
          "output_type": "stream",
          "name": "stdout",
          "text": [
            "clean_stop download started this may take some time.\n",
            "Approx size to download 22.8 KB\n",
            "[OK!]\n"
          ]
        }
      ]
    },
    {
      "cell_type": "code",
      "source": [
        "clean_stop.model.stages # clean stop pipeline stages"
      ],
      "metadata": {
        "colab": {
          "base_uri": "https://localhost:8080/"
        },
        "id": "szUVExtY43Ww",
        "outputId": "dbf13dac-88c1-4170-a326-1cacf19152b6"
      },
      "execution_count": 49,
      "outputs": [
        {
          "output_type": "execute_result",
          "data": {
            "text/plain": [
              "[document_90b4be8a6e0b,\n",
              " SENTENCE_8ba1e4f73af0,\n",
              " REGEX_TOKENIZER_fb4f98b445ce,\n",
              " STOPWORDS_CLEANER_b5d381c851f5]"
            ]
          },
          "metadata": {},
          "execution_count": 49
        }
      ]
    },
    {
      "cell_type": "code",
      "source": [
        "result = clean_stop.annotate(testDoc)\n",
        "result.keys()"
      ],
      "metadata": {
        "colab": {
          "base_uri": "https://localhost:8080/"
        },
        "id": "UdwKhAEc43ZI",
        "outputId": "b73f2bd4-1867-4256-8b00-1be8ab885b8c"
      },
      "execution_count": 50,
      "outputs": [
        {
          "output_type": "execute_result",
          "data": {
            "text/plain": [
              "dict_keys(['document', 'sentence', 'token', 'cleanTokens'])"
            ]
          },
          "metadata": {},
          "execution_count": 50
        }
      ]
    },
    {
      "cell_type": "code",
      "source": [
        "result['cleanTokens']"
      ],
      "metadata": {
        "colab": {
          "base_uri": "https://localhost:8080/"
        },
        "id": "jlANwscu43bm",
        "outputId": "1a9048fd-d141-492c-eee1-ce64a4c658ce"
      },
      "execution_count": 51,
      "outputs": [
        {
          "output_type": "execute_result",
          "data": {
            "text/plain": [
              "['misson',\n",
              " 'United',\n",
              " 'States',\n",
              " 'Air',\n",
              " 'Frce',\n",
              " 'fly',\n",
              " ',',\n",
              " 'fight',\n",
              " 'win',\n",
              " '-',\n",
              " 'airpower',\n",
              " 'anytime',\n",
              " ',',\n",
              " 'nywhere',\n",
              " '.',\n",
              " 'time',\n",
              " ',',\n",
              " 'time',\n",
              " ',',\n",
              " 'uniorm',\n",
              " ',',\n",
              " 'serves',\n",
              " 'plays',\n",
              " 'critial',\n",
              " 'role',\n",
              " 'helping',\n",
              " 'achieve',\n",
              " 'mission',\n",
              " 'sccess',\n",
              " '.']"
            ]
          },
          "metadata": {},
          "execution_count": 51
        }
      ]
    },
    {
      "cell_type": "code",
      "source": [
        "' '.join(result['cleanTokens'])"
      ],
      "metadata": {
        "colab": {
          "base_uri": "https://localhost:8080/",
          "height": 53
        },
        "id": "4DlZZCYV6Vg6",
        "outputId": "6dbb7582-7d7f-4576-9142-4cb554a1e2a9"
      },
      "execution_count": 52,
      "outputs": [
        {
          "output_type": "execute_result",
          "data": {
            "application/vnd.google.colaboratory.intrinsic+json": {
              "type": "string"
            },
            "text/plain": [
              "'misson United States Air Frce fly , fight win - airpower anytime , nywhere . time , time , uniorm , serves plays critial role helping achieve mission sccess .'"
            ]
          },
          "metadata": {},
          "execution_count": 52
        }
      ]
    },
    {
      "cell_type": "markdown",
      "source": [
        "**Spell Checker**"
      ],
      "metadata": {
        "id": "yXfqljta7dHM"
      }
    },
    {
      "cell_type": "code",
      "source": [
        "spell_checker = PretrainedPipeline('check_spelling', lang='en')"
      ],
      "metadata": {
        "colab": {
          "base_uri": "https://localhost:8080/"
        },
        "id": "h_IpMoYk6WBJ",
        "outputId": "ff54baf4-1a8e-4749-8c8d-c37ed2087716"
      },
      "execution_count": 53,
      "outputs": [
        {
          "output_type": "stream",
          "name": "stdout",
          "text": [
            "check_spelling download started this may take some time.\n",
            "Approx size to download 913.5 KB\n",
            "[OK!]\n"
          ]
        }
      ]
    },
    {
      "cell_type": "code",
      "source": [
        "result = spell_checker.annotate(testDoc)"
      ],
      "metadata": {
        "id": "JLtpitZO6WEP"
      },
      "execution_count": 54,
      "outputs": []
    },
    {
      "cell_type": "code",
      "source": [
        "result.keys()"
      ],
      "metadata": {
        "colab": {
          "base_uri": "https://localhost:8080/"
        },
        "id": "g2Nip7jD6WG_",
        "outputId": "38761094-1849-466a-d7aa-b7d152fbc13a"
      },
      "execution_count": 55,
      "outputs": [
        {
          "output_type": "execute_result",
          "data": {
            "text/plain": [
              "dict_keys(['document', 'sentence', 'token', 'checked'])"
            ]
          },
          "metadata": {},
          "execution_count": 55
        }
      ]
    },
    {
      "cell_type": "code",
      "source": [
        "list(zip(result['token'], result['checked']))"
      ],
      "metadata": {
        "colab": {
          "base_uri": "https://localhost:8080/"
        },
        "id": "fCuQMd526WJN",
        "outputId": "ca39b4cb-4ef4-4f9a-846a-0f45f462257d"
      },
      "execution_count": 56,
      "outputs": [
        {
          "output_type": "execute_result",
          "data": {
            "text/plain": [
              "[('The', 'The'),\n",
              " ('misson', 'mission'),\n",
              " ('of', 'of'),\n",
              " ('the', 'the'),\n",
              " ('United', 'United'),\n",
              " ('States', 'States'),\n",
              " ('Air', 'Air'),\n",
              " ('Frce', 'Free'),\n",
              " ('is', 'is'),\n",
              " ('to', 'to'),\n",
              " ('fly', 'fly'),\n",
              " (',', ','),\n",
              " ('fight', 'fight'),\n",
              " ('and', 'and'),\n",
              " ('win', 'win'),\n",
              " ('-', '-'),\n",
              " ('airpower', 'airpower'),\n",
              " ('anytime', 'anytime'),\n",
              " (',', ','),\n",
              " ('nywhere', 'anywhere'),\n",
              " ('.', '.'),\n",
              " ('Whether', 'Whether'),\n",
              " ('full', 'full'),\n",
              " ('time', 'time'),\n",
              " (',', ','),\n",
              " ('part', 'part'),\n",
              " ('time', 'time'),\n",
              " (',', ','),\n",
              " ('in', 'in'),\n",
              " ('or', 'or'),\n",
              " ('out', 'out'),\n",
              " ('of', 'of'),\n",
              " ('uniorm', 'uniform'),\n",
              " (',', ','),\n",
              " ('everyone', 'everyone'),\n",
              " ('who', 'who'),\n",
              " ('serves', 'serves'),\n",
              " ('plays', 'plays'),\n",
              " ('a', 'a'),\n",
              " ('critial', 'critical'),\n",
              " ('role', 'role'),\n",
              " ('in', 'in'),\n",
              " ('helping', 'helping'),\n",
              " ('us', 'us'),\n",
              " ('achieve', 'achieve'),\n",
              " ('mission', 'mission'),\n",
              " ('sccess', 'access'),\n",
              " ('.', '.')]"
            ]
          },
          "metadata": {},
          "execution_count": 56
        }
      ]
    },
    {
      "cell_type": "markdown",
      "source": [
        "**Parsing a list of texts**"
      ],
      "metadata": {
        "id": "gqB-iDIr7815"
      }
    },
    {
      "cell_type": "code",
      "source": [
        "testDoc_list = ['French author who helped pioner the science-fiction genre.',\n",
        "'Verne wrate about space, air, and underwater travel before navigable aircrast',\n",
        "'Practical submarines were invented, and before any means of space travel had been devised.']\n",
        "\n",
        "testDoc_list"
      ],
      "metadata": {
        "colab": {
          "base_uri": "https://localhost:8080/"
        },
        "id": "uBDzSaHC6WLz",
        "outputId": "95d2a22a-7b9f-46dc-a6a5-99d63b9bb217"
      },
      "execution_count": 57,
      "outputs": [
        {
          "output_type": "execute_result",
          "data": {
            "text/plain": [
              "['French author who helped pioner the science-fiction genre.',\n",
              " 'Verne wrate about space, air, and underwater travel before navigable aircrast',\n",
              " 'Practical submarines were invented, and before any means of space travel had been devised.']"
            ]
          },
          "metadata": {},
          "execution_count": 57
        }
      ]
    },
    {
      "cell_type": "code",
      "source": [
        "pipeline = PretrainedPipeline('explain_document_ml', lang='en')"
      ],
      "metadata": {
        "colab": {
          "base_uri": "https://localhost:8080/"
        },
        "id": "0ctj4b9T6WPg",
        "outputId": "64d71850-661c-4305-a8ce-0037f5372a21"
      },
      "execution_count": 58,
      "outputs": [
        {
          "output_type": "stream",
          "name": "stdout",
          "text": [
            "explain_document_ml download started this may take some time.\n",
            "Approx size to download 9.1 MB\n",
            "[OK!]\n"
          ]
        }
      ]
    },
    {
      "cell_type": "code",
      "source": [
        "result_list = pipeline.annotate(testDoc_list)\n",
        "\n",
        "len (result_list)"
      ],
      "metadata": {
        "colab": {
          "base_uri": "https://localhost:8080/"
        },
        "id": "rgBBE7_s8Zab",
        "outputId": "b25b49bb-9ba0-4225-c1c4-d468f97ecd4e"
      },
      "execution_count": 59,
      "outputs": [
        {
          "output_type": "execute_result",
          "data": {
            "text/plain": [
              "3"
            ]
          },
          "metadata": {},
          "execution_count": 59
        }
      ]
    },
    {
      "cell_type": "code",
      "source": [
        "result_list"
      ],
      "metadata": {
        "colab": {
          "base_uri": "https://localhost:8080/"
        },
        "id": "q7FkKhy288lp",
        "outputId": "ccf07b7f-2aba-4c9f-9564-2ecba7c3c703"
      },
      "execution_count": 61,
      "outputs": [
        {
          "output_type": "execute_result",
          "data": {
            "text/plain": [
              "[{'document': ['French author who helped pioner the science-fiction genre.'],\n",
              "  'lemmas': ['French',\n",
              "   'author',\n",
              "   'who',\n",
              "   'help',\n",
              "   'pioneer',\n",
              "   'the',\n",
              "   'sciencefiction',\n",
              "   'genre',\n",
              "   '.'],\n",
              "  'pos': ['JJ', 'NN', 'WP', 'VBD', 'NN', 'DT', 'NN', 'NN', '.'],\n",
              "  'sentence': ['French author who helped pioner the science-fiction genre.'],\n",
              "  'spell': ['French',\n",
              "   'author',\n",
              "   'who',\n",
              "   'helped',\n",
              "   'pioneer',\n",
              "   'the',\n",
              "   'sciencefiction',\n",
              "   'genre',\n",
              "   '.'],\n",
              "  'stems': ['french',\n",
              "   'author',\n",
              "   'who',\n",
              "   'help',\n",
              "   'pioneer',\n",
              "   'the',\n",
              "   'sciencefict',\n",
              "   'genr',\n",
              "   '.'],\n",
              "  'token': ['French',\n",
              "   'author',\n",
              "   'who',\n",
              "   'helped',\n",
              "   'pioner',\n",
              "   'the',\n",
              "   'science-fiction',\n",
              "   'genre',\n",
              "   '.']},\n",
              " {'document': ['Verne wrate about space, air, and underwater travel before navigable aircrast'],\n",
              "  'lemmas': ['Verne',\n",
              "   'write',\n",
              "   'about',\n",
              "   'space',\n",
              "   ',',\n",
              "   'air',\n",
              "   ',',\n",
              "   'and',\n",
              "   'underwater',\n",
              "   'travel',\n",
              "   'before',\n",
              "   'navigable',\n",
              "   'aircraft'],\n",
              "  'pos': ['NNP',\n",
              "   'VBD',\n",
              "   'IN',\n",
              "   'NN',\n",
              "   ',',\n",
              "   'NN',\n",
              "   ',',\n",
              "   'CC',\n",
              "   'JJ',\n",
              "   'NN',\n",
              "   'IN',\n",
              "   'JJ',\n",
              "   'NN'],\n",
              "  'sentence': ['Verne wrate about space, air, and underwater travel before navigable aircrast'],\n",
              "  'spell': ['Verne',\n",
              "   'wrote',\n",
              "   'about',\n",
              "   'space',\n",
              "   ',',\n",
              "   'air',\n",
              "   ',',\n",
              "   'and',\n",
              "   'underwater',\n",
              "   'travel',\n",
              "   'before',\n",
              "   'navigable',\n",
              "   'aircraft'],\n",
              "  'stems': ['vern',\n",
              "   'wrote',\n",
              "   'about',\n",
              "   'space',\n",
              "   ',',\n",
              "   'air',\n",
              "   ',',\n",
              "   'and',\n",
              "   'underwat',\n",
              "   'travel',\n",
              "   'befor',\n",
              "   'navig',\n",
              "   'aircraft'],\n",
              "  'token': ['Verne',\n",
              "   'wrate',\n",
              "   'about',\n",
              "   'space',\n",
              "   ',',\n",
              "   'air',\n",
              "   ',',\n",
              "   'and',\n",
              "   'underwater',\n",
              "   'travel',\n",
              "   'before',\n",
              "   'navigable',\n",
              "   'aircrast']},\n",
              " {'document': ['Practical submarines were invented, and before any means of space travel had been devised.'],\n",
              "  'lemmas': ['Practical',\n",
              "   'submarine',\n",
              "   'be',\n",
              "   'invent',\n",
              "   ',',\n",
              "   'and',\n",
              "   'before',\n",
              "   'any',\n",
              "   'mean',\n",
              "   'of',\n",
              "   'space',\n",
              "   'travel',\n",
              "   'have',\n",
              "   'be',\n",
              "   'devise',\n",
              "   '.'],\n",
              "  'pos': ['NNP',\n",
              "   'NNS',\n",
              "   'VBD',\n",
              "   'VBN',\n",
              "   ',',\n",
              "   'CC',\n",
              "   'IN',\n",
              "   'DT',\n",
              "   'NNS',\n",
              "   'IN',\n",
              "   'NN',\n",
              "   'NN',\n",
              "   'VBD',\n",
              "   'VBN',\n",
              "   'VBN',\n",
              "   '.'],\n",
              "  'sentence': ['Practical submarines were invented, and before any means of space travel had been devised.'],\n",
              "  'spell': ['Practical',\n",
              "   'submarines',\n",
              "   'were',\n",
              "   'invented',\n",
              "   ',',\n",
              "   'and',\n",
              "   'before',\n",
              "   'any',\n",
              "   'means',\n",
              "   'of',\n",
              "   'space',\n",
              "   'travel',\n",
              "   'had',\n",
              "   'been',\n",
              "   'devised',\n",
              "   '.'],\n",
              "  'stems': ['practic',\n",
              "   'submarin',\n",
              "   'were',\n",
              "   'invent',\n",
              "   ',',\n",
              "   'and',\n",
              "   'befor',\n",
              "   'ani',\n",
              "   'mean',\n",
              "   'of',\n",
              "   'space',\n",
              "   'travel',\n",
              "   'had',\n",
              "   'been',\n",
              "   'devis',\n",
              "   '.'],\n",
              "  'token': ['Practical',\n",
              "   'submarines',\n",
              "   'were',\n",
              "   'invented',\n",
              "   ',',\n",
              "   'and',\n",
              "   'before',\n",
              "   'any',\n",
              "   'means',\n",
              "   'of',\n",
              "   'space',\n",
              "   'travel',\n",
              "   'had',\n",
              "   'been',\n",
              "   'devised',\n",
              "   '.']}]"
            ]
          },
          "metadata": {},
          "execution_count": 61
        }
      ]
    },
    {
      "cell_type": "code",
      "source": [
        "result_list[0]"
      ],
      "metadata": {
        "colab": {
          "base_uri": "https://localhost:8080/"
        },
        "id": "pqPRwrpX8ZdY",
        "outputId": "8298b56a-4636-4e79-fe00-008b25103d26"
      },
      "execution_count": 60,
      "outputs": [
        {
          "output_type": "execute_result",
          "data": {
            "text/plain": [
              "{'document': ['French author who helped pioner the science-fiction genre.'],\n",
              " 'lemmas': ['French',\n",
              "  'author',\n",
              "  'who',\n",
              "  'help',\n",
              "  'pioneer',\n",
              "  'the',\n",
              "  'sciencefiction',\n",
              "  'genre',\n",
              "  '.'],\n",
              " 'pos': ['JJ', 'NN', 'WP', 'VBD', 'NN', 'DT', 'NN', 'NN', '.'],\n",
              " 'sentence': ['French author who helped pioner the science-fiction genre.'],\n",
              " 'spell': ['French',\n",
              "  'author',\n",
              "  'who',\n",
              "  'helped',\n",
              "  'pioneer',\n",
              "  'the',\n",
              "  'sciencefiction',\n",
              "  'genre',\n",
              "  '.'],\n",
              " 'stems': ['french',\n",
              "  'author',\n",
              "  'who',\n",
              "  'help',\n",
              "  'pioneer',\n",
              "  'the',\n",
              "  'sciencefict',\n",
              "  'genr',\n",
              "  '.'],\n",
              " 'token': ['French',\n",
              "  'author',\n",
              "  'who',\n",
              "  'helped',\n",
              "  'pioner',\n",
              "  'the',\n",
              "  'science-fiction',\n",
              "  'genre',\n",
              "  '.']}"
            ]
          },
          "metadata": {},
          "execution_count": 60
        }
      ]
    },
    {
      "cell_type": "markdown",
      "source": [
        "**Using fullAnnotate to get more details**"
      ],
      "metadata": {
        "id": "sLIUNTkF9vWA"
      }
    },
    {
      "cell_type": "markdown",
      "source": [
        "\n",
        "\n",
        "```\n",
        "annotatorType: String, \n",
        "begin: Int, \n",
        "end: Int, \n",
        "result: String, (this is what annotate returns)\n",
        "metadata: Map[String, String], \n",
        "embeddings: Array[Float]\n",
        "```\n",
        "\n"
      ],
      "metadata": {
        "id": "f1uds2wl99ps"
      }
    },
    {
      "cell_type": "code",
      "source": [
        "text = 'Peter Parker is a nice guy and lives in New York'"
      ],
      "metadata": {
        "id": "20u5AZK98ZgQ"
      },
      "execution_count": 64,
      "outputs": []
    },
    {
      "cell_type": "code",
      "source": [
        "# pipeline_dl >> explain_document_dl\n",
        "\n",
        "detailed_result = pipeline_dl.fullAnnotate(text)"
      ],
      "metadata": {
        "id": "P7POjk258Zix"
      },
      "execution_count": 65,
      "outputs": []
    },
    {
      "cell_type": "code",
      "source": [
        "detailed_result\n"
      ],
      "metadata": {
        "colab": {
          "base_uri": "https://localhost:8080/"
        },
        "id": "pFkdQCTj8Zlb",
        "outputId": "b5e4a98a-12fe-4805-984d-f15db990dfda"
      },
      "execution_count": 68,
      "outputs": [
        {
          "output_type": "execute_result",
          "data": {
            "text/plain": [
              "[{'checked': [Annotation(token, 0, 4, Peter, {'confidence': '1.0', 'sentence': '0'}),\n",
              "   Annotation(token, 6, 11, Parker, {'confidence': '1.0', 'sentence': '0'}),\n",
              "   Annotation(token, 13, 14, is, {'confidence': '1.0', 'sentence': '0'}),\n",
              "   Annotation(token, 16, 16, a, {'confidence': '1.0', 'sentence': '0'}),\n",
              "   Annotation(token, 18, 21, nice, {'confidence': '1.0', 'sentence': '0'}),\n",
              "   Annotation(token, 23, 25, guy, {'confidence': '1.0', 'sentence': '0'}),\n",
              "   Annotation(token, 27, 29, and, {'confidence': '1.0', 'sentence': '0'}),\n",
              "   Annotation(token, 31, 35, lives, {'confidence': '1.0', 'sentence': '0'}),\n",
              "   Annotation(token, 37, 38, in, {'confidence': '1.0', 'sentence': '0'}),\n",
              "   Annotation(token, 40, 42, New, {'confidence': '1.0', 'sentence': '0'}),\n",
              "   Annotation(token, 44, 47, York, {'confidence': '1.0', 'sentence': '0'})],\n",
              "  'document': [Annotation(document, 0, 47, Peter Parker is a nice guy and lives in New York, {})],\n",
              "  'embeddings': [Annotation(word_embeddings, 0, 4, Peter, {'isOOV': 'false', 'pieceId': '-1', 'isWordStart': 'true', 'token': 'Peter', 'sentence': '0'}),\n",
              "   Annotation(word_embeddings, 6, 11, Parker, {'isOOV': 'false', 'pieceId': '-1', 'isWordStart': 'true', 'token': 'Parker', 'sentence': '0'}),\n",
              "   Annotation(word_embeddings, 13, 14, is, {'isOOV': 'false', 'pieceId': '-1', 'isWordStart': 'true', 'token': 'is', 'sentence': '0'}),\n",
              "   Annotation(word_embeddings, 16, 16, a, {'isOOV': 'false', 'pieceId': '-1', 'isWordStart': 'true', 'token': 'a', 'sentence': '0'}),\n",
              "   Annotation(word_embeddings, 18, 21, nice, {'isOOV': 'false', 'pieceId': '-1', 'isWordStart': 'true', 'token': 'nice', 'sentence': '0'}),\n",
              "   Annotation(word_embeddings, 23, 25, guy, {'isOOV': 'false', 'pieceId': '-1', 'isWordStart': 'true', 'token': 'guy', 'sentence': '0'}),\n",
              "   Annotation(word_embeddings, 27, 29, and, {'isOOV': 'false', 'pieceId': '-1', 'isWordStart': 'true', 'token': 'and', 'sentence': '0'}),\n",
              "   Annotation(word_embeddings, 31, 35, lives, {'isOOV': 'false', 'pieceId': '-1', 'isWordStart': 'true', 'token': 'lives', 'sentence': '0'}),\n",
              "   Annotation(word_embeddings, 37, 38, in, {'isOOV': 'false', 'pieceId': '-1', 'isWordStart': 'true', 'token': 'in', 'sentence': '0'}),\n",
              "   Annotation(word_embeddings, 40, 42, New, {'isOOV': 'false', 'pieceId': '-1', 'isWordStart': 'true', 'token': 'New', 'sentence': '0'}),\n",
              "   Annotation(word_embeddings, 44, 47, York, {'isOOV': 'false', 'pieceId': '-1', 'isWordStart': 'true', 'token': 'York', 'sentence': '0'})],\n",
              "  'entities': [Annotation(chunk, 0, 11, Peter Parker, {'entity': 'PER', 'sentence': '0', 'chunk': '0'}),\n",
              "   Annotation(chunk, 40, 47, New York, {'entity': 'LOC', 'sentence': '0', 'chunk': '1'})],\n",
              "  'lemma': [Annotation(token, 0, 4, Peter, {'confidence': '1.0', 'sentence': '0'}),\n",
              "   Annotation(token, 6, 11, Parker, {'confidence': '1.0', 'sentence': '0'}),\n",
              "   Annotation(token, 13, 14, be, {'confidence': '1.0', 'sentence': '0'}),\n",
              "   Annotation(token, 16, 16, a, {'confidence': '1.0', 'sentence': '0'}),\n",
              "   Annotation(token, 18, 21, nice, {'confidence': '1.0', 'sentence': '0'}),\n",
              "   Annotation(token, 23, 25, guy, {'confidence': '1.0', 'sentence': '0'}),\n",
              "   Annotation(token, 27, 29, and, {'confidence': '1.0', 'sentence': '0'}),\n",
              "   Annotation(token, 31, 35, life, {'confidence': '1.0', 'sentence': '0'}),\n",
              "   Annotation(token, 37, 38, in, {'confidence': '1.0', 'sentence': '0'}),\n",
              "   Annotation(token, 40, 42, New, {'confidence': '1.0', 'sentence': '0'}),\n",
              "   Annotation(token, 44, 47, York, {'confidence': '1.0', 'sentence': '0'})],\n",
              "  'ner': [Annotation(named_entity, 0, 4, B-PER, {'word': 'Peter', 'sentence': '0'}),\n",
              "   Annotation(named_entity, 6, 11, I-PER, {'word': 'Parker', 'sentence': '0'}),\n",
              "   Annotation(named_entity, 13, 14, O, {'word': 'is', 'sentence': '0'}),\n",
              "   Annotation(named_entity, 16, 16, O, {'word': 'a', 'sentence': '0'}),\n",
              "   Annotation(named_entity, 18, 21, O, {'word': 'nice', 'sentence': '0'}),\n",
              "   Annotation(named_entity, 23, 25, O, {'word': 'guy', 'sentence': '0'}),\n",
              "   Annotation(named_entity, 27, 29, O, {'word': 'and', 'sentence': '0'}),\n",
              "   Annotation(named_entity, 31, 35, O, {'word': 'lives', 'sentence': '0'}),\n",
              "   Annotation(named_entity, 37, 38, O, {'word': 'in', 'sentence': '0'}),\n",
              "   Annotation(named_entity, 40, 42, B-LOC, {'word': 'New', 'sentence': '0'}),\n",
              "   Annotation(named_entity, 44, 47, I-LOC, {'word': 'York', 'sentence': '0'})],\n",
              "  'pos': [Annotation(pos, 0, 4, NNP, {'word': 'Peter', 'sentence': '0'}),\n",
              "   Annotation(pos, 6, 11, NNP, {'word': 'Parker', 'sentence': '0'}),\n",
              "   Annotation(pos, 13, 14, VBZ, {'word': 'is', 'sentence': '0'}),\n",
              "   Annotation(pos, 16, 16, DT, {'word': 'a', 'sentence': '0'}),\n",
              "   Annotation(pos, 18, 21, JJ, {'word': 'nice', 'sentence': '0'}),\n",
              "   Annotation(pos, 23, 25, NN, {'word': 'guy', 'sentence': '0'}),\n",
              "   Annotation(pos, 27, 29, CC, {'word': 'and', 'sentence': '0'}),\n",
              "   Annotation(pos, 31, 35, NNS, {'word': 'lives', 'sentence': '0'}),\n",
              "   Annotation(pos, 37, 38, IN, {'word': 'in', 'sentence': '0'}),\n",
              "   Annotation(pos, 40, 42, NNP, {'word': 'New', 'sentence': '0'}),\n",
              "   Annotation(pos, 44, 47, NNP, {'word': 'York', 'sentence': '0'})],\n",
              "  'sentence': [Annotation(document, 0, 47, Peter Parker is a nice guy and lives in New York, {'sentence': '0'})],\n",
              "  'stem': [Annotation(token, 0, 4, peter, {'confidence': '1.0', 'sentence': '0'}),\n",
              "   Annotation(token, 6, 11, parker, {'confidence': '1.0', 'sentence': '0'}),\n",
              "   Annotation(token, 13, 14, i, {'confidence': '1.0', 'sentence': '0'}),\n",
              "   Annotation(token, 16, 16, a, {'confidence': '1.0', 'sentence': '0'}),\n",
              "   Annotation(token, 18, 21, nice, {'confidence': '1.0', 'sentence': '0'}),\n",
              "   Annotation(token, 23, 25, gui, {'confidence': '1.0', 'sentence': '0'}),\n",
              "   Annotation(token, 27, 29, and, {'confidence': '1.0', 'sentence': '0'}),\n",
              "   Annotation(token, 31, 35, live, {'confidence': '1.0', 'sentence': '0'}),\n",
              "   Annotation(token, 37, 38, in, {'confidence': '1.0', 'sentence': '0'}),\n",
              "   Annotation(token, 40, 42, new, {'confidence': '1.0', 'sentence': '0'}),\n",
              "   Annotation(token, 44, 47, york, {'confidence': '1.0', 'sentence': '0'})],\n",
              "  'token': [Annotation(token, 0, 4, Peter, {'sentence': '0'}),\n",
              "   Annotation(token, 6, 11, Parker, {'sentence': '0'}),\n",
              "   Annotation(token, 13, 14, is, {'sentence': '0'}),\n",
              "   Annotation(token, 16, 16, a, {'sentence': '0'}),\n",
              "   Annotation(token, 18, 21, nice, {'sentence': '0'}),\n",
              "   Annotation(token, 23, 25, guy, {'sentence': '0'}),\n",
              "   Annotation(token, 27, 29, and, {'sentence': '0'}),\n",
              "   Annotation(token, 31, 35, lives, {'sentence': '0'}),\n",
              "   Annotation(token, 37, 38, in, {'sentence': '0'}),\n",
              "   Annotation(token, 40, 42, New, {'sentence': '0'}),\n",
              "   Annotation(token, 44, 47, York, {'sentence': '0'})]}]"
            ]
          },
          "metadata": {},
          "execution_count": 68
        }
      ]
    },
    {
      "cell_type": "code",
      "source": [
        "detailed_result[0]['entities']"
      ],
      "metadata": {
        "colab": {
          "base_uri": "https://localhost:8080/"
        },
        "id": "Py2kf_-48ZoK",
        "outputId": "9bbadfba-0cc3-4d62-a5be-4a5ce9f4de86"
      },
      "execution_count": 69,
      "outputs": [
        {
          "output_type": "execute_result",
          "data": {
            "text/plain": [
              "[Annotation(chunk, 0, 11, Peter Parker, {'entity': 'PER', 'sentence': '0', 'chunk': '0'}),\n",
              " Annotation(chunk, 40, 47, New York, {'entity': 'LOC', 'sentence': '0', 'chunk': '1'})]"
            ]
          },
          "metadata": {},
          "execution_count": 69
        }
      ]
    },
    {
      "cell_type": "code",
      "source": [
        "detailed_result[0]['entities'][1].result"
      ],
      "metadata": {
        "colab": {
          "base_uri": "https://localhost:8080/",
          "height": 35
        },
        "id": "B7qBW7098ZqR",
        "outputId": "e93e902c-3bcf-42b0-d30b-a16bfc4cb27b"
      },
      "execution_count": 72,
      "outputs": [
        {
          "output_type": "execute_result",
          "data": {
            "application/vnd.google.colaboratory.intrinsic+json": {
              "type": "string"
            },
            "text/plain": [
              "'New York'"
            ]
          },
          "metadata": {},
          "execution_count": 72
        }
      ]
    },
    {
      "cell_type": "code",
      "source": [
        "chunks=[]\n",
        "entities=[]\n",
        "for n in detailed_result[0]['entities']:\n",
        "        \n",
        "  chunks.append(n.result)\n",
        "  entities.append(n.metadata['entity']) \n",
        "    \n",
        "df = pd.DataFrame({'chunks':chunks, 'entities':entities})\n",
        "df  "
      ],
      "metadata": {
        "colab": {
          "base_uri": "https://localhost:8080/",
          "height": 112
        },
        "id": "iZrsIFQj_Lmt",
        "outputId": "e3ef429f-f7e3-40be-9139-583ffec5796c"
      },
      "execution_count": 73,
      "outputs": [
        {
          "output_type": "execute_result",
          "data": {
            "text/html": [
              "\n",
              "  <div id=\"df-a79f3315-531b-40c3-a294-e2b44b962561\">\n",
              "    <div class=\"colab-df-container\">\n",
              "      <div>\n",
              "<style scoped>\n",
              "    .dataframe tbody tr th:only-of-type {\n",
              "        vertical-align: middle;\n",
              "    }\n",
              "\n",
              "    .dataframe tbody tr th {\n",
              "        vertical-align: top;\n",
              "    }\n",
              "\n",
              "    .dataframe thead th {\n",
              "        text-align: right;\n",
              "    }\n",
              "</style>\n",
              "<table border=\"1\" class=\"dataframe\">\n",
              "  <thead>\n",
              "    <tr style=\"text-align: right;\">\n",
              "      <th></th>\n",
              "      <th>chunks</th>\n",
              "      <th>entities</th>\n",
              "    </tr>\n",
              "  </thead>\n",
              "  <tbody>\n",
              "    <tr>\n",
              "      <th>0</th>\n",
              "      <td>Peter Parker</td>\n",
              "      <td>PER</td>\n",
              "    </tr>\n",
              "    <tr>\n",
              "      <th>1</th>\n",
              "      <td>New York</td>\n",
              "      <td>LOC</td>\n",
              "    </tr>\n",
              "  </tbody>\n",
              "</table>\n",
              "</div>\n",
              "      <button class=\"colab-df-convert\" onclick=\"convertToInteractive('df-a79f3315-531b-40c3-a294-e2b44b962561')\"\n",
              "              title=\"Convert this dataframe to an interactive table.\"\n",
              "              style=\"display:none;\">\n",
              "        \n",
              "  <svg xmlns=\"http://www.w3.org/2000/svg\" height=\"24px\"viewBox=\"0 0 24 24\"\n",
              "       width=\"24px\">\n",
              "    <path d=\"M0 0h24v24H0V0z\" fill=\"none\"/>\n",
              "    <path d=\"M18.56 5.44l.94 2.06.94-2.06 2.06-.94-2.06-.94-.94-2.06-.94 2.06-2.06.94zm-11 1L8.5 8.5l.94-2.06 2.06-.94-2.06-.94L8.5 2.5l-.94 2.06-2.06.94zm10 10l.94 2.06.94-2.06 2.06-.94-2.06-.94-.94-2.06-.94 2.06-2.06.94z\"/><path d=\"M17.41 7.96l-1.37-1.37c-.4-.4-.92-.59-1.43-.59-.52 0-1.04.2-1.43.59L10.3 9.45l-7.72 7.72c-.78.78-.78 2.05 0 2.83L4 21.41c.39.39.9.59 1.41.59.51 0 1.02-.2 1.41-.59l7.78-7.78 2.81-2.81c.8-.78.8-2.07 0-2.86zM5.41 20L4 18.59l7.72-7.72 1.47 1.35L5.41 20z\"/>\n",
              "  </svg>\n",
              "      </button>\n",
              "      \n",
              "  <style>\n",
              "    .colab-df-container {\n",
              "      display:flex;\n",
              "      flex-wrap:wrap;\n",
              "      gap: 12px;\n",
              "    }\n",
              "\n",
              "    .colab-df-convert {\n",
              "      background-color: #E8F0FE;\n",
              "      border: none;\n",
              "      border-radius: 50%;\n",
              "      cursor: pointer;\n",
              "      display: none;\n",
              "      fill: #1967D2;\n",
              "      height: 32px;\n",
              "      padding: 0 0 0 0;\n",
              "      width: 32px;\n",
              "    }\n",
              "\n",
              "    .colab-df-convert:hover {\n",
              "      background-color: #E2EBFA;\n",
              "      box-shadow: 0px 1px 2px rgba(60, 64, 67, 0.3), 0px 1px 3px 1px rgba(60, 64, 67, 0.15);\n",
              "      fill: #174EA6;\n",
              "    }\n",
              "\n",
              "    [theme=dark] .colab-df-convert {\n",
              "      background-color: #3B4455;\n",
              "      fill: #D2E3FC;\n",
              "    }\n",
              "\n",
              "    [theme=dark] .colab-df-convert:hover {\n",
              "      background-color: #434B5C;\n",
              "      box-shadow: 0px 1px 3px 1px rgba(0, 0, 0, 0.15);\n",
              "      filter: drop-shadow(0px 1px 2px rgba(0, 0, 0, 0.3));\n",
              "      fill: #FFFFFF;\n",
              "    }\n",
              "  </style>\n",
              "\n",
              "      <script>\n",
              "        const buttonEl =\n",
              "          document.querySelector('#df-a79f3315-531b-40c3-a294-e2b44b962561 button.colab-df-convert');\n",
              "        buttonEl.style.display =\n",
              "          google.colab.kernel.accessAllowed ? 'block' : 'none';\n",
              "\n",
              "        async function convertToInteractive(key) {\n",
              "          const element = document.querySelector('#df-a79f3315-531b-40c3-a294-e2b44b962561');\n",
              "          const dataTable =\n",
              "            await google.colab.kernel.invokeFunction('convertToInteractive',\n",
              "                                                     [key], {});\n",
              "          if (!dataTable) return;\n",
              "\n",
              "          const docLinkHtml = 'Like what you see? Visit the ' +\n",
              "            '<a target=\"_blank\" href=https://colab.research.google.com/notebooks/data_table.ipynb>data table notebook</a>'\n",
              "            + ' to learn more about interactive tables.';\n",
              "          element.innerHTML = '';\n",
              "          dataTable['output_type'] = 'display_data';\n",
              "          await google.colab.output.renderOutput(dataTable, element);\n",
              "          const docLink = document.createElement('div');\n",
              "          docLink.innerHTML = docLinkHtml;\n",
              "          element.appendChild(docLink);\n",
              "        }\n",
              "      </script>\n",
              "    </div>\n",
              "  </div>\n",
              "  "
            ],
            "text/plain": [
              "         chunks entities\n",
              "0  Peter Parker      PER\n",
              "1      New York      LOC"
            ]
          },
          "metadata": {},
          "execution_count": 73
        }
      ]
    },
    {
      "cell_type": "code",
      "source": [
        "tuples = []\n",
        "\n",
        "for x,y,z in zip(detailed_result[0][\"token\"], detailed_result[0][\"pos\"], detailed_result[0][\"ner\"]):\n",
        "\n",
        "  tuples.append((int(x.metadata['sentence']), x.result, x.begin, x.end, y.result, z.result))\n",
        "\n",
        "df = pd.DataFrame(tuples, columns=['sent_id','token','start','end','pos', 'ner'])\n",
        "\n",
        "df"
      ],
      "metadata": {
        "colab": {
          "base_uri": "https://localhost:8080/",
          "height": 394
        },
        "id": "nA7RX8MC_Lpi",
        "outputId": "22b4de75-de3a-4ff9-94fd-eb338695689e"
      },
      "execution_count": 74,
      "outputs": [
        {
          "output_type": "execute_result",
          "data": {
            "text/html": [
              "\n",
              "  <div id=\"df-0df0b038-3b31-422e-8f93-cf4646221044\">\n",
              "    <div class=\"colab-df-container\">\n",
              "      <div>\n",
              "<style scoped>\n",
              "    .dataframe tbody tr th:only-of-type {\n",
              "        vertical-align: middle;\n",
              "    }\n",
              "\n",
              "    .dataframe tbody tr th {\n",
              "        vertical-align: top;\n",
              "    }\n",
              "\n",
              "    .dataframe thead th {\n",
              "        text-align: right;\n",
              "    }\n",
              "</style>\n",
              "<table border=\"1\" class=\"dataframe\">\n",
              "  <thead>\n",
              "    <tr style=\"text-align: right;\">\n",
              "      <th></th>\n",
              "      <th>sent_id</th>\n",
              "      <th>token</th>\n",
              "      <th>start</th>\n",
              "      <th>end</th>\n",
              "      <th>pos</th>\n",
              "      <th>ner</th>\n",
              "    </tr>\n",
              "  </thead>\n",
              "  <tbody>\n",
              "    <tr>\n",
              "      <th>0</th>\n",
              "      <td>0</td>\n",
              "      <td>Peter</td>\n",
              "      <td>0</td>\n",
              "      <td>4</td>\n",
              "      <td>NNP</td>\n",
              "      <td>B-PER</td>\n",
              "    </tr>\n",
              "    <tr>\n",
              "      <th>1</th>\n",
              "      <td>0</td>\n",
              "      <td>Parker</td>\n",
              "      <td>6</td>\n",
              "      <td>11</td>\n",
              "      <td>NNP</td>\n",
              "      <td>I-PER</td>\n",
              "    </tr>\n",
              "    <tr>\n",
              "      <th>2</th>\n",
              "      <td>0</td>\n",
              "      <td>is</td>\n",
              "      <td>13</td>\n",
              "      <td>14</td>\n",
              "      <td>VBZ</td>\n",
              "      <td>O</td>\n",
              "    </tr>\n",
              "    <tr>\n",
              "      <th>3</th>\n",
              "      <td>0</td>\n",
              "      <td>a</td>\n",
              "      <td>16</td>\n",
              "      <td>16</td>\n",
              "      <td>DT</td>\n",
              "      <td>O</td>\n",
              "    </tr>\n",
              "    <tr>\n",
              "      <th>4</th>\n",
              "      <td>0</td>\n",
              "      <td>nice</td>\n",
              "      <td>18</td>\n",
              "      <td>21</td>\n",
              "      <td>JJ</td>\n",
              "      <td>O</td>\n",
              "    </tr>\n",
              "    <tr>\n",
              "      <th>5</th>\n",
              "      <td>0</td>\n",
              "      <td>guy</td>\n",
              "      <td>23</td>\n",
              "      <td>25</td>\n",
              "      <td>NN</td>\n",
              "      <td>O</td>\n",
              "    </tr>\n",
              "    <tr>\n",
              "      <th>6</th>\n",
              "      <td>0</td>\n",
              "      <td>and</td>\n",
              "      <td>27</td>\n",
              "      <td>29</td>\n",
              "      <td>CC</td>\n",
              "      <td>O</td>\n",
              "    </tr>\n",
              "    <tr>\n",
              "      <th>7</th>\n",
              "      <td>0</td>\n",
              "      <td>lives</td>\n",
              "      <td>31</td>\n",
              "      <td>35</td>\n",
              "      <td>NNS</td>\n",
              "      <td>O</td>\n",
              "    </tr>\n",
              "    <tr>\n",
              "      <th>8</th>\n",
              "      <td>0</td>\n",
              "      <td>in</td>\n",
              "      <td>37</td>\n",
              "      <td>38</td>\n",
              "      <td>IN</td>\n",
              "      <td>O</td>\n",
              "    </tr>\n",
              "    <tr>\n",
              "      <th>9</th>\n",
              "      <td>0</td>\n",
              "      <td>New</td>\n",
              "      <td>40</td>\n",
              "      <td>42</td>\n",
              "      <td>NNP</td>\n",
              "      <td>B-LOC</td>\n",
              "    </tr>\n",
              "    <tr>\n",
              "      <th>10</th>\n",
              "      <td>0</td>\n",
              "      <td>York</td>\n",
              "      <td>44</td>\n",
              "      <td>47</td>\n",
              "      <td>NNP</td>\n",
              "      <td>I-LOC</td>\n",
              "    </tr>\n",
              "  </tbody>\n",
              "</table>\n",
              "</div>\n",
              "      <button class=\"colab-df-convert\" onclick=\"convertToInteractive('df-0df0b038-3b31-422e-8f93-cf4646221044')\"\n",
              "              title=\"Convert this dataframe to an interactive table.\"\n",
              "              style=\"display:none;\">\n",
              "        \n",
              "  <svg xmlns=\"http://www.w3.org/2000/svg\" height=\"24px\"viewBox=\"0 0 24 24\"\n",
              "       width=\"24px\">\n",
              "    <path d=\"M0 0h24v24H0V0z\" fill=\"none\"/>\n",
              "    <path d=\"M18.56 5.44l.94 2.06.94-2.06 2.06-.94-2.06-.94-.94-2.06-.94 2.06-2.06.94zm-11 1L8.5 8.5l.94-2.06 2.06-.94-2.06-.94L8.5 2.5l-.94 2.06-2.06.94zm10 10l.94 2.06.94-2.06 2.06-.94-2.06-.94-.94-2.06-.94 2.06-2.06.94z\"/><path d=\"M17.41 7.96l-1.37-1.37c-.4-.4-.92-.59-1.43-.59-.52 0-1.04.2-1.43.59L10.3 9.45l-7.72 7.72c-.78.78-.78 2.05 0 2.83L4 21.41c.39.39.9.59 1.41.59.51 0 1.02-.2 1.41-.59l7.78-7.78 2.81-2.81c.8-.78.8-2.07 0-2.86zM5.41 20L4 18.59l7.72-7.72 1.47 1.35L5.41 20z\"/>\n",
              "  </svg>\n",
              "      </button>\n",
              "      \n",
              "  <style>\n",
              "    .colab-df-container {\n",
              "      display:flex;\n",
              "      flex-wrap:wrap;\n",
              "      gap: 12px;\n",
              "    }\n",
              "\n",
              "    .colab-df-convert {\n",
              "      background-color: #E8F0FE;\n",
              "      border: none;\n",
              "      border-radius: 50%;\n",
              "      cursor: pointer;\n",
              "      display: none;\n",
              "      fill: #1967D2;\n",
              "      height: 32px;\n",
              "      padding: 0 0 0 0;\n",
              "      width: 32px;\n",
              "    }\n",
              "\n",
              "    .colab-df-convert:hover {\n",
              "      background-color: #E2EBFA;\n",
              "      box-shadow: 0px 1px 2px rgba(60, 64, 67, 0.3), 0px 1px 3px 1px rgba(60, 64, 67, 0.15);\n",
              "      fill: #174EA6;\n",
              "    }\n",
              "\n",
              "    [theme=dark] .colab-df-convert {\n",
              "      background-color: #3B4455;\n",
              "      fill: #D2E3FC;\n",
              "    }\n",
              "\n",
              "    [theme=dark] .colab-df-convert:hover {\n",
              "      background-color: #434B5C;\n",
              "      box-shadow: 0px 1px 3px 1px rgba(0, 0, 0, 0.15);\n",
              "      filter: drop-shadow(0px 1px 2px rgba(0, 0, 0, 0.3));\n",
              "      fill: #FFFFFF;\n",
              "    }\n",
              "  </style>\n",
              "\n",
              "      <script>\n",
              "        const buttonEl =\n",
              "          document.querySelector('#df-0df0b038-3b31-422e-8f93-cf4646221044 button.colab-df-convert');\n",
              "        buttonEl.style.display =\n",
              "          google.colab.kernel.accessAllowed ? 'block' : 'none';\n",
              "\n",
              "        async function convertToInteractive(key) {\n",
              "          const element = document.querySelector('#df-0df0b038-3b31-422e-8f93-cf4646221044');\n",
              "          const dataTable =\n",
              "            await google.colab.kernel.invokeFunction('convertToInteractive',\n",
              "                                                     [key], {});\n",
              "          if (!dataTable) return;\n",
              "\n",
              "          const docLinkHtml = 'Like what you see? Visit the ' +\n",
              "            '<a target=\"_blank\" href=https://colab.research.google.com/notebooks/data_table.ipynb>data table notebook</a>'\n",
              "            + ' to learn more about interactive tables.';\n",
              "          element.innerHTML = '';\n",
              "          dataTable['output_type'] = 'display_data';\n",
              "          await google.colab.output.renderOutput(dataTable, element);\n",
              "          const docLink = document.createElement('div');\n",
              "          docLink.innerHTML = docLinkHtml;\n",
              "          element.appendChild(docLink);\n",
              "        }\n",
              "      </script>\n",
              "    </div>\n",
              "  </div>\n",
              "  "
            ],
            "text/plain": [
              "    sent_id   token  start  end  pos    ner\n",
              "0         0   Peter      0    4  NNP  B-PER\n",
              "1         0  Parker      6   11  NNP  I-PER\n",
              "2         0      is     13   14  VBZ      O\n",
              "3         0       a     16   16   DT      O\n",
              "4         0    nice     18   21   JJ      O\n",
              "5         0     guy     23   25   NN      O\n",
              "6         0     and     27   29   CC      O\n",
              "7         0   lives     31   35  NNS      O\n",
              "8         0      in     37   38   IN      O\n",
              "9         0     New     40   42  NNP  B-LOC\n",
              "10        0    York     44   47  NNP  I-LOC"
            ]
          },
          "metadata": {},
          "execution_count": 74
        }
      ]
    },
    {
      "cell_type": "markdown",
      "source": [
        "**Sentiment Analysis**"
      ],
      "metadata": {
        "id": "_IzJQ9pv_gAg"
      }
    },
    {
      "cell_type": "markdown",
      "source": [
        "**Vivek algo**"
      ],
      "metadata": {
        "id": "1eHUomam_jHb"
      }
    },
    {
      "cell_type": "markdown",
      "source": [
        "\n",
        "\n",
        "```\n",
        "Vivek algo\n",
        "paper: Fast and accurate sentiment classification using an enhanced Naive Bayes model\n",
        "\n",
        "https://arxiv.org/abs/1305.6143\n",
        "\n",
        "code https://github.com/vivekn/sentiment\n",
        "```\n",
        "\n"
      ],
      "metadata": {
        "id": "0dIKb4Sk_sVM"
      }
    },
    {
      "cell_type": "code",
      "source": [
        "sentiment = PretrainedPipeline('analyze_sentiment', lang='en')"
      ],
      "metadata": {
        "colab": {
          "base_uri": "https://localhost:8080/"
        },
        "id": "uk0XDGXr_Lsu",
        "outputId": "f909f399-82ee-4326-f3af-4fb6aa92e46f"
      },
      "execution_count": 75,
      "outputs": [
        {
          "output_type": "stream",
          "name": "stdout",
          "text": [
            "analyze_sentiment download started this may take some time.\n",
            "Approx size to download 4.9 MB\n",
            "[OK!]\n"
          ]
        }
      ]
    },
    {
      "cell_type": "code",
      "source": [
        "result = sentiment.annotate(\"The movie I watched today was not a good one\")\n",
        "\n",
        "result['sentiment']"
      ],
      "metadata": {
        "colab": {
          "base_uri": "https://localhost:8080/"
        },
        "id": "Wol76FyK_Luc",
        "outputId": "a6ddee25-b631-4b44-dc55-1b7c35d73d60"
      },
      "execution_count": 76,
      "outputs": [
        {
          "output_type": "execute_result",
          "data": {
            "text/plain": [
              "['negative']"
            ]
          },
          "metadata": {},
          "execution_count": 76
        }
      ]
    },
    {
      "cell_type": "markdown",
      "source": [
        "**DL version (trained on imdb)**"
      ],
      "metadata": {
        "id": "uYibl15fAJKa"
      }
    },
    {
      "cell_type": "code",
      "source": [
        "sentiment_imdb = PretrainedPipeline('analyze_sentimentdl_use_imdb', lang='en')"
      ],
      "metadata": {
        "colab": {
          "base_uri": "https://localhost:8080/"
        },
        "id": "yn7t7Z7cAIvC",
        "outputId": "ce92cad3-ca19-462f-9095-3172b35a921c"
      },
      "execution_count": 80,
      "outputs": [
        {
          "output_type": "stream",
          "name": "stdout",
          "text": [
            "analyze_sentimentdl_use_imdb download started this may take some time.\n",
            "Approx size to download 935.7 MB\n",
            "[OK!]\n"
          ]
        }
      ]
    },
    {
      "cell_type": "code",
      "source": [
        "sentiment_imdb_glove = PretrainedPipeline('analyze_sentimentdl_glove_imdb', lang='en')"
      ],
      "metadata": {
        "colab": {
          "base_uri": "https://localhost:8080/"
        },
        "id": "VDENwx9ZAdVd",
        "outputId": "837b95d9-a958-4b6b-cb15-80f5f3ff210c"
      },
      "execution_count": 85,
      "outputs": [
        {
          "output_type": "stream",
          "name": "stdout",
          "text": [
            "analyze_sentimentdl_glove_imdb download started this may take some time.\n",
            "Approx size to download 155.3 MB\n",
            "[OK!]\n"
          ]
        }
      ]
    },
    {
      "cell_type": "code",
      "source": [
        "comment = '''\n",
        "It's a very scary film but what impressed me was how true the film sticks to the original's tricks; it isn't filled with loud in-your-face jump scares, in fact, a lot of what makes this film scary is the slick cinematography and intricate shadow play. The use of lighting and creation of atmosphere is what makes this film so tense, which is why it's perfectly suited for those who like Horror movies but without the obnoxious gore.\n",
        "'''\n",
        "result = sentiment_imdb_glove.annotate(comment)\n",
        "\n",
        "result['sentiment']"
      ],
      "metadata": {
        "colab": {
          "base_uri": "https://localhost:8080/"
        },
        "id": "mvvSngqLAdY-",
        "outputId": "28ec1341-01c4-4f68-e6b6-587f18d37dca"
      },
      "execution_count": 86,
      "outputs": [
        {
          "output_type": "execute_result",
          "data": {
            "text/plain": [
              "['pos']"
            ]
          },
          "metadata": {},
          "execution_count": 86
        }
      ]
    },
    {
      "cell_type": "code",
      "source": [
        "sentiment_imdb_glove.fullAnnotate(comment)[0]['sentiment']"
      ],
      "metadata": {
        "colab": {
          "base_uri": "https://localhost:8080/"
        },
        "id": "nMMgDP6mAdcG",
        "outputId": "fa3ad95b-6acf-4c6a-c58c-589468fd142c"
      },
      "execution_count": 87,
      "outputs": [
        {
          "output_type": "execute_result",
          "data": {
            "text/plain": [
              "[Annotation(category, 0, 433, pos, {'sentence': '0', 'pos': '0.98675287', 'neg': '0.013247096'})]"
            ]
          },
          "metadata": {},
          "execution_count": 87
        }
      ]
    },
    {
      "cell_type": "code",
      "source": [
        ""
      ],
      "metadata": {
        "id": "jQ2TEG3vAdfU"
      },
      "execution_count": 77,
      "outputs": []
    },
    {
      "cell_type": "code",
      "source": [
        ""
      ],
      "metadata": {
        "id": "g2ccHbR4Adhh"
      },
      "execution_count": null,
      "outputs": []
    }
  ]
}