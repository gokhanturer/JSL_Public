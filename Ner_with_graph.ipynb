{
  "nbformat": 4,
  "nbformat_minor": 0,
  "metadata": {
    "colab": {
      "name": "Ner_with_graph.ipynb",
      "provenance": [],
      "collapsed_sections": [],
      "authorship_tag": "ABX9TyOwL6dF9JmsyKpW2skfU1Fm",
      "include_colab_link": true
    },
    "kernelspec": {
      "name": "python3",
      "display_name": "Python 3"
    },
    "language_info": {
      "name": "python"
    }
  },
  "cells": [
    {
      "cell_type": "markdown",
      "metadata": {
        "id": "view-in-github",
        "colab_type": "text"
      },
      "source": [
        "<a href=\"https://colab.research.google.com/github/gokhanturer/JSL_Public/blob/main/Ner_with_graph.ipynb\" target=\"_parent\"><img src=\"https://colab.research.google.com/assets/colab-badge.svg\" alt=\"Open In Colab\"/></a>"
      ]
    },
    {
      "cell_type": "code",
      "execution_count": null,
      "metadata": {
        "colab": {
          "base_uri": "https://localhost:8080/"
        },
        "id": "N3n7wt3nq160",
        "outputId": "93affb4d-1283-4c21-c355-48abf2934bc2"
      },
      "outputs": [
        {
          "output_type": "stream",
          "name": "stdout",
          "text": [
            "\u001b[K     |████████████████████████████████| 212.4 MB 64 kB/s \n",
            "\u001b[K     |████████████████████████████████| 140 kB 42.7 MB/s \n",
            "\u001b[K     |████████████████████████████████| 198 kB 53.4 MB/s \n",
            "\u001b[?25h  Building wheel for pyspark (setup.py) ... \u001b[?25l\u001b[?25hdone\n",
            "\u001b[K     |████████████████████████████████| 95 kB 3.0 MB/s \n",
            "\u001b[K     |████████████████████████████████| 66 kB 4.7 MB/s \n",
            "\u001b[?25h"
          ]
        }
      ],
      "source": [
        "! pip install -q pyspark==3.1.2 spark-nlp\n",
        "\n",
        "! pip install -q spark-nlp-display"
      ]
    },
    {
      "cell_type": "code",
      "source": [
        "import sparknlp\n",
        "\n",
        "spark = sparknlp.start(gpu = True) \n",
        "\n",
        "from sparknlp.base import *\n",
        "from sparknlp.annotator import *\n",
        "import pyspark.sql.functions as F\n",
        "from sparknlp.training import CoNLL\n",
        "\n",
        "print(\"Spark NLP version\", sparknlp.version())\n",
        "\n",
        "print(\"Apache Spark version:\", spark.version)\n",
        "\n",
        "spark"
      ],
      "metadata": {
        "colab": {
          "base_uri": "https://localhost:8080/",
          "height": 250
        },
        "id": "iJwOY4EgrHNZ",
        "outputId": "ed7a7696-97fd-451b-84c2-75869bf19a32"
      },
      "execution_count": null,
      "outputs": [
        {
          "output_type": "stream",
          "name": "stdout",
          "text": [
            "Spark NLP version 3.4.0\n",
            "Apache Spark version: 3.1.2\n"
          ]
        },
        {
          "output_type": "execute_result",
          "data": {
            "text/html": [
              "\n",
              "            <div>\n",
              "                <p><b>SparkSession - in-memory</b></p>\n",
              "                \n",
              "        <div>\n",
              "            <p><b>SparkContext</b></p>\n",
              "\n",
              "            <p><a href=\"http://3a2766fdb68a:4040\">Spark UI</a></p>\n",
              "\n",
              "            <dl>\n",
              "              <dt>Version</dt>\n",
              "                <dd><code>v3.1.2</code></dd>\n",
              "              <dt>Master</dt>\n",
              "                <dd><code>local[*]</code></dd>\n",
              "              <dt>AppName</dt>\n",
              "                <dd><code>Spark NLP</code></dd>\n",
              "            </dl>\n",
              "        </div>\n",
              "        \n",
              "            </div>\n",
              "        "
            ],
            "text/plain": [
              "<pyspark.sql.session.SparkSession at 0x7f40ab2b0cd0>"
            ]
          },
          "metadata": {},
          "execution_count": 2
        }
      ]
    },
    {
      "cell_type": "code",
      "source": [
        "!wget -q https://raw.githubusercontent.com/JohnSnowLabs/spark-nlp/master/src/test/resources/conll2003/eng.train\n",
        "!wget -q https://raw.githubusercontent.com/JohnSnowLabs/spark-nlp/master/src/test/resources/conll2003/eng.testa"
      ],
      "metadata": {
        "id": "YTvL-XuUrMxF"
      },
      "execution_count": null,
      "outputs": []
    },
    {
      "cell_type": "code",
      "source": [
        "with open(\"eng.train\") as f:\n",
        "    train_txt =f.read()"
      ],
      "metadata": {
        "id": "a8P5X4gvrR9w"
      },
      "execution_count": null,
      "outputs": []
    },
    {
      "cell_type": "code",
      "source": [
        "train_data = CoNLL().readDataset(spark, 'eng.train')"
      ],
      "metadata": {
        "id": "grOjKWRfrTsX"
      },
      "execution_count": null,
      "outputs": []
    },
    {
      "cell_type": "code",
      "source": [
        "train_data.select(F.explode(F.arrays_zip('token.result', 'pos.result',  'label.result')).alias(\"cols\")) \\\n",
        ".select(F.expr(\"cols['0']\").alias(\"token\"),\n",
        "        F.expr(\"cols['1']\").alias(\"pos\"),\n",
        "        F.expr(\"cols['2']\").alias(\"ner_label\")).show(truncate=50)"
      ],
      "metadata": {
        "colab": {
          "base_uri": "https://localhost:8080/"
        },
        "id": "o3_MnYxWrXfI",
        "outputId": "bb881dec-b91c-406a-c629-9526e7ec8beb"
      },
      "execution_count": null,
      "outputs": [
        {
          "output_type": "stream",
          "name": "stdout",
          "text": [
            "+----------+---+---------+\n",
            "|     token|pos|ner_label|\n",
            "+----------+---+---------+\n",
            "|        EU|NNP|    B-ORG|\n",
            "|   rejects|VBZ|        O|\n",
            "|    German| JJ|   B-MISC|\n",
            "|      call| NN|        O|\n",
            "|        to| TO|        O|\n",
            "|   boycott| VB|        O|\n",
            "|   British| JJ|   B-MISC|\n",
            "|      lamb| NN|        O|\n",
            "|         .|  .|        O|\n",
            "|     Peter|NNP|    B-PER|\n",
            "| Blackburn|NNP|    I-PER|\n",
            "|  BRUSSELS|NNP|    B-LOC|\n",
            "|1996-08-22| CD|        O|\n",
            "|       The| DT|        O|\n",
            "|  European|NNP|    B-ORG|\n",
            "|Commission|NNP|    I-ORG|\n",
            "|      said|VBD|        O|\n",
            "|        on| IN|        O|\n",
            "|  Thursday|NNP|        O|\n",
            "|        it|PRP|        O|\n",
            "+----------+---+---------+\n",
            "only showing top 20 rows\n",
            "\n"
          ]
        }
      ]
    },
    {
      "cell_type": "code",
      "source": [
        "train_data.select(F.explode(F.arrays_zip(\"token.result\",\"label.result\")).alias(\"cols\")) \\\n",
        ".select(F.expr(\"cols['0']\").alias(\"token\"),\n",
        "        F.expr(\"cols['1']\").alias(\"ground_truth\")).groupBy(\"ground_truth\").count().orderBy(\"count\", ascending=False).show(100,truncate=False)"
      ],
      "metadata": {
        "colab": {
          "base_uri": "https://localhost:8080/"
        },
        "id": "P5uZwv8drbcc",
        "outputId": "01330892-8d05-4913-baac-d4b693e349b4"
      },
      "execution_count": null,
      "outputs": [
        {
          "output_type": "stream",
          "name": "stdout",
          "text": [
            "+------------+------+\n",
            "|ground_truth|count |\n",
            "+------------+------+\n",
            "|O           |169578|\n",
            "|B-LOC       |7140  |\n",
            "|B-PER       |6600  |\n",
            "|B-ORG       |6321  |\n",
            "|I-PER       |4528  |\n",
            "|I-ORG       |3704  |\n",
            "|B-MISC      |3438  |\n",
            "|I-LOC       |1157  |\n",
            "|I-MISC      |1155  |\n",
            "+------------+------+\n",
            "\n"
          ]
        }
      ]
    },
    {
      "cell_type": "code",
      "source": [
        "with open (\"eng.testa\") as f:\n",
        "  test_data = f.read()"
      ],
      "metadata": {
        "id": "wyoRvh7FrbZT"
      },
      "execution_count": null,
      "outputs": []
    },
    {
      "cell_type": "code",
      "source": [
        "test_data = CoNLL().readDataset(spark, 'eng.testa')"
      ],
      "metadata": {
        "id": "aViIwTbdrbWj"
      },
      "execution_count": null,
      "outputs": []
    },
    {
      "cell_type": "code",
      "source": [
        "test_data.select(F.explode(F.arrays_zip(\"token.result\",\"label.result\")).alias(\"cols\")) \\\n",
        ".select(F.expr(\"cols['0']\").alias(\"token\"),\n",
        "        F.expr(\"cols['1']\").alias(\"ground_truth\")).groupBy(\"ground_truth\").count().orderBy(\"count\", ascending=False).show(100,truncate=False)"
      ],
      "metadata": {
        "colab": {
          "base_uri": "https://localhost:8080/"
        },
        "id": "g0sz-LHcrbT1",
        "outputId": "b28de74e-a591-4541-9679-f9dbf4314b12"
      },
      "execution_count": null,
      "outputs": [
        {
          "output_type": "stream",
          "name": "stdout",
          "text": [
            "+------------+-----+\n",
            "|ground_truth|count|\n",
            "+------------+-----+\n",
            "|O           |42759|\n",
            "|B-PER       |1842 |\n",
            "|B-LOC       |1837 |\n",
            "|B-ORG       |1341 |\n",
            "|I-PER       |1307 |\n",
            "|B-MISC      |922  |\n",
            "|I-ORG       |751  |\n",
            "|I-MISC      |346  |\n",
            "|I-LOC       |257  |\n",
            "+------------+-----+\n",
            "\n"
          ]
        }
      ]
    },
    {
      "cell_type": "code",
      "source": [
        "glove_embeddings = WordEmbeddingsModel.pretrained()\\\n",
        "    .setInputCols([\"sentence\", \"token\"])\\\n",
        "    .setOutputCol(\"embeddings\")"
      ],
      "metadata": {
        "colab": {
          "base_uri": "https://localhost:8080/"
        },
        "id": "0ifghFzcFmNp",
        "outputId": "00072096-8cc1-4ba1-ab43-41f49db63d29"
      },
      "execution_count": null,
      "outputs": [
        {
          "output_type": "stream",
          "name": "stdout",
          "text": [
            "glove_100d download started this may take some time.\n",
            "Approximate size to download 145.3 MB\n",
            "[OK!]\n"
          ]
        }
      ]
    },
    {
      "cell_type": "code",
      "source": [
        "glove_embeddings.transform(test_data).write.parquet('test_data.parquet')"
      ],
      "metadata": {
        "id": "J9fjcby9FnI1"
      },
      "execution_count": null,
      "outputs": []
    },
    {
      "cell_type": "code",
      "source": [
        "%%capture\n",
        "\n",
        "!wget -q https://raw.githubusercontent.com/JohnSnowLabs/spark-nlp-workshop/master/jupyter/training/english/dl-ner/nerdl-graph/create_graph.py\n",
        "!wget -q https://raw.githubusercontent.com/JohnSnowLabs/spark-nlp-workshop/master/jupyter/training/english/dl-ner/nerdl-graph/dataset_encoder.py\n",
        "!wget -q https://raw.githubusercontent.com/JohnSnowLabs/spark-nlp-workshop/master/jupyter/training/english/dl-ner/nerdl-graph/ner_model.py\n",
        "!wget -q https://raw.githubusercontent.com/JohnSnowLabs/spark-nlp-workshop/master/jupyter/training/english/dl-ner/nerdl-graph/ner_model_saver.py\n",
        "!wget -q https://raw.githubusercontent.com/JohnSnowLabs/spark-nlp-workshop/master/jupyter/training/english/dl-ner/nerdl-graph/sentence_grouper.py\n",
        "\n",
        "! pip -q install tensorflow==1.15.0\n",
        "\n",
        "import create_graph\n",
        "\n",
        "ntags = 9 # number of labels\n",
        "embeddings_dim = 100\n",
        "nchars =100\n",
        "\n",
        "create_graph.create_graph(ntags, embeddings_dim, nchars)\n",
        "\n",
        "# then move the graph to grap folder stated in NerDLApproach"
      ],
      "metadata": {
        "id": "Q4WsErGMGQp2"
      },
      "execution_count": null,
      "outputs": []
    },
    {
      "cell_type": "code",
      "source": [
        "nerTagger = NerDLApproach()\\\n",
        "    .setInputCols([\"sentence\", \"token\", \"embeddings\"])\\\n",
        "    .setLabelColumn(\"label\")\\\n",
        "    .setOutputCol(\"ner\")\\\n",
        "    .setMaxEpochs(15)\\\n",
        "    .setLr(0.002)\\\n",
        "    .setDropout(0.5)\\\n",
        "    .setBatchSize(10)\\\n",
        "    .setRandomSeed(0)\\\n",
        "    .setVerbose(1)\\\n",
        "    .setEvaluationLogExtended(True) \\\n",
        "    .setEnableOutputLogs(True)\\\n",
        "    .setIncludeConfidence(True)\\\n",
        "    .setEnableMemoryOptimizer(False)\\\n",
        "    .setGraphFolder('/content/NER_graph')\\\n",
        "    .setTestDataset('test_data.parquet')\n",
        "\n",
        "ner_pipeline = Pipeline(stages=[\n",
        "      glove_embeddings,\n",
        "      nerTagger\n",
        "])"
      ],
      "metadata": {
        "id": "bVvtbPURrbRD"
      },
      "execution_count": null,
      "outputs": []
    },
    {
      "cell_type": "code",
      "source": [
        "%%time\n",
        "\n",
        "ner_model = ner_pipeline.fit(train_data)"
      ],
      "metadata": {
        "colab": {
          "base_uri": "https://localhost:8080/"
        },
        "id": "6dR_3lDYrbOE",
        "outputId": "286a452a-f804-4b02-df2e-7ff1f14d9329"
      },
      "execution_count": null,
      "outputs": [
        {
          "output_type": "stream",
          "name": "stdout",
          "text": [
            "CPU times: user 26.6 s, sys: 2.54 s, total: 29.1 s\n",
            "Wall time: 1h 16min 56s\n"
          ]
        }
      ]
    },
    {
      "cell_type": "code",
      "source": [
        "!cd ~/annotator_logs/ && ls -lt"
      ],
      "metadata": {
        "colab": {
          "base_uri": "https://localhost:8080/"
        },
        "id": "JP4Xz1fKuV8U",
        "outputId": "82c44c45-5307-4a71-c12b-fb568e89e68a"
      },
      "execution_count": null,
      "outputs": [
        {
          "output_type": "stream",
          "name": "stdout",
          "text": [
            "total 12\n",
            "-rw-r--r-- 1 root root 12205 Feb  2 14:41 NerDLApproach_8a8df207748f.log\n"
          ]
        }
      ]
    },
    {
      "cell_type": "code",
      "source": [
        "!cat ~/annotator_logs/NerDLApproach_8a8df207748f.log"
      ],
      "metadata": {
        "colab": {
          "base_uri": "https://localhost:8080/"
        },
        "id": "ffwl9vUjuZDg",
        "outputId": "1d7fe030-86a9-4cbe-8f7b-0799d90682d7"
      },
      "execution_count": null,
      "outputs": [
        {
          "output_type": "stream",
          "name": "stdout",
          "text": [
            "Name of the selected graph: /content/NER_graph/blstm_9_100_128_100.pb\n",
            "Training started - total epochs: 15 - lr: 0.002 - batch size: 10 - labels: 9 - chars: 84 - training examples: 14041\n",
            "\n",
            "\n",
            "Epoch 1/15 started, lr: 0.002, dataset size: 14041\n",
            "\n",
            "\n",
            "Epoch 1/15 - 301.57s - loss: 3147.6409 - batches: 1407\n",
            "Quality on test dataset: \n",
            "time to finish evaluation: 14.66s\n",
            "label\t tp\t fp\t fn\t prec\t rec\t f1\n",
            "B-LOC\t 1703\t 99\t 134\t 0.945061\t 0.927055\t 0.9359714\n",
            "I-ORG\t 572\t 80\t 179\t 0.8773006\t 0.76165116\t 0.8153956\n",
            "I-MISC\t 273\t 145\t 73\t 0.65311\t 0.7890173\t 0.71465963\n",
            "I-LOC\t 215\t 33\t 42\t 0.8669355\t 0.83657587\t 0.8514852\n",
            "I-PER\t 1247\t 18\t 60\t 0.98577076\t 0.95409334\t 0.9696734\n",
            "B-MISC\t 848\t 299\t 74\t 0.73932\t 0.9197397\t 0.8197197\n",
            "B-ORG\t 1145\t 108\t 196\t 0.91380686\t 0.8538404\t 0.8828065\n",
            "B-PER\t 1738\t 60\t 104\t 0.96662956\t 0.9435396\t 0.9549451\n",
            "tp: 7741 fp: 842 fn: 862 labels: 8\n",
            "Macro-average\t prec: 0.86849177, rec: 0.8731891, f1: 0.87083405\n",
            "Micro-average\t prec: 0.9018991, rec: 0.8998024, f1: 0.90084946\n",
            "\n",
            "\n",
            "Epoch 2/15 started, lr: 0.0019900498, dataset size: 14041\n",
            "\n",
            "\n",
            "Epoch 2/15 - 314.93s - loss: 1277.1008 - batches: 1407\n",
            "Quality on test dataset: \n",
            "time to finish evaluation: 13.68s\n",
            "label\t tp\t fp\t fn\t prec\t rec\t f1\n",
            "B-LOC\t 1762\t 94\t 75\t 0.94935346\t 0.95917255\t 0.95423776\n",
            "I-ORG\t 591\t 53\t 160\t 0.91770184\t 0.7869507\t 0.8473118\n",
            "I-MISC\t 247\t 35\t 99\t 0.8758865\t 0.71387285\t 0.78662425\n",
            "I-LOC\t 229\t 25\t 28\t 0.9015748\t 0.8910506\t 0.8962817\n",
            "I-PER\t 1274\t 60\t 33\t 0.9550225\t 0.97475135\t 0.9647862\n",
            "B-MISC\t 806\t 83\t 116\t 0.90663666\t 0.8741866\t 0.8901159\n",
            "B-ORG\t 1164\t 91\t 177\t 0.92749006\t 0.868009\t 0.8967642\n",
            "B-PER\t 1789\t 130\t 53\t 0.9322564\t 0.97122693\t 0.9513427\n",
            "tp: 7862 fp: 571 fn: 741 labels: 8\n",
            "Macro-average\t prec: 0.9207403, rec: 0.8799026, f1: 0.8998583\n",
            "Micro-average\t prec: 0.93228984, rec: 0.91386724, f1: 0.9229866\n",
            "\n",
            "\n",
            "Epoch 3/15 started, lr: 0.001980198, dataset size: 14041\n",
            "\n",
            "\n",
            "Epoch 3/15 - 301.95s - loss: 982.25397 - batches: 1407\n",
            "Quality on test dataset: \n",
            "time to finish evaluation: 16.71s\n",
            "label\t tp\t fp\t fn\t prec\t rec\t f1\n",
            "B-LOC\t 1760\t 89\t 77\t 0.95186585\t 0.9580838\t 0.9549647\n",
            "I-ORG\t 598\t 44\t 153\t 0.9314642\t 0.7962716\t 0.8585786\n",
            "I-MISC\t 259\t 47\t 87\t 0.8464052\t 0.7485549\t 0.7944785\n",
            "I-LOC\t 224\t 28\t 33\t 0.8888889\t 0.8715953\t 0.8801572\n",
            "I-PER\t 1266\t 27\t 41\t 0.97911835\t 0.96863043\t 0.97384614\n",
            "B-MISC\t 824\t 104\t 98\t 0.88793105\t 0.8937093\t 0.8908108\n",
            "B-ORG\t 1217\t 102\t 124\t 0.9226687\t 0.9075317\t 0.9150376\n",
            "B-PER\t 1785\t 65\t 57\t 0.96486485\t 0.96905535\t 0.9669556\n",
            "tp: 7933 fp: 506 fn: 670 labels: 8\n",
            "Macro-average\t prec: 0.9216509, rec: 0.88917905, f1: 0.9051239\n",
            "Micro-average\t prec: 0.9400403, rec: 0.9221202, f1: 0.9309941\n",
            "\n",
            "\n",
            "Epoch 4/15 started, lr: 0.0019704434, dataset size: 14041\n",
            "\n",
            "\n",
            "Epoch 4/15 - 310.30s - loss: 811.3769 - batches: 1407\n",
            "Quality on test dataset: \n",
            "time to finish evaluation: 13.68s\n",
            "label\t tp\t fp\t fn\t prec\t rec\t f1\n",
            "B-LOC\t 1780\t 141\t 57\t 0.92660075\t 0.96897113\t 0.94731236\n",
            "I-ORG\t 641\t 53\t 110\t 0.92363113\t 0.8535286\t 0.88719726\n",
            "I-MISC\t 287\t 144\t 59\t 0.66589326\t 0.82947975\t 0.7387387\n",
            "I-LOC\t 223\t 41\t 34\t 0.844697\t 0.8677043\t 0.856046\n",
            "I-PER\t 1269\t 23\t 38\t 0.9821981\t 0.9709258\t 0.9765294\n",
            "B-MISC\t 828\t 120\t 94\t 0.87341774\t 0.89804775\t 0.8855615\n",
            "B-ORG\t 1194\t 90\t 147\t 0.92990655\t 0.8903803\t 0.9097143\n",
            "B-PER\t 1780\t 63\t 62\t 0.9658166\t 0.96634096\t 0.96607876\n",
            "tp: 8002 fp: 675 fn: 601 labels: 8\n",
            "Macro-average\t prec: 0.88902014, rec: 0.9056724, f1: 0.897269\n",
            "Micro-average\t prec: 0.92220813, rec: 0.9301407, f1: 0.9261574\n",
            "\n",
            "\n",
            "Epoch 5/15 started, lr: 0.0019607844, dataset size: 14041\n",
            "\n",
            "\n",
            "Epoch 5/15 - 319.46s - loss: 743.75854 - batches: 1407\n",
            "Quality on test dataset: \n",
            "time to finish evaluation: 13.50s\n",
            "label\t tp\t fp\t fn\t prec\t rec\t f1\n",
            "B-LOC\t 1769\t 82\t 68\t 0.9556996\t 0.96298313\t 0.9593275\n",
            "I-ORG\t 607\t 48\t 144\t 0.9267176\t 0.8082557\t 0.8634424\n",
            "I-MISC\t 289\t 120\t 57\t 0.70660144\t 0.8352601\t 0.76556295\n",
            "I-LOC\t 226\t 24\t 31\t 0.904\t 0.8793774\t 0.8915187\n",
            "I-PER\t 1268\t 20\t 39\t 0.98447204\t 0.97016066\t 0.9772639\n",
            "B-MISC\t 843\t 126\t 79\t 0.86996907\t 0.9143167\t 0.8915918\n",
            "B-ORG\t 1202\t 71\t 139\t 0.94422626\t 0.89634603\t 0.91966337\n",
            "B-PER\t 1785\t 64\t 57\t 0.9653867\t 0.96905535\t 0.96721756\n",
            "tp: 7989 fp: 555 fn: 614 labels: 8\n",
            "Macro-average\t prec: 0.90713406, rec: 0.9044694, f1: 0.90579975\n",
            "Micro-average\t prec: 0.93504214, rec: 0.9286296, f1: 0.9318248\n",
            "\n",
            "\n",
            "Epoch 6/15 started, lr: 0.0019512196, dataset size: 14041\n",
            "\n",
            "\n",
            "Epoch 6/15 - 303.63s - loss: 652.35175 - batches: 1407\n",
            "Quality on test dataset: \n",
            "time to finish evaluation: 13.54s\n",
            "label\t tp\t fp\t fn\t prec\t rec\t f1\n",
            "B-LOC\t 1755\t 58\t 82\t 0.9680088\t 0.955362\t 0.9616438\n",
            "I-ORG\t 688\t 132\t 63\t 0.83902436\t 0.9161118\t 0.8758752\n",
            "I-MISC\t 265\t 37\t 81\t 0.8774834\t 0.76589596\t 0.8179012\n",
            "I-LOC\t 222\t 19\t 35\t 0.92116183\t 0.8638132\t 0.8915663\n",
            "I-PER\t 1274\t 30\t 33\t 0.97699386\t 0.97475135\t 0.97587126\n",
            "B-MISC\t 831\t 92\t 91\t 0.900325\t 0.9013015\t 0.900813\n",
            "B-ORG\t 1229\t 100\t 112\t 0.92475545\t 0.91648024\t 0.9205993\n",
            "B-PER\t 1781\t 69\t 61\t 0.9627027\t 0.96688384\t 0.96478873\n",
            "tp: 8045 fp: 537 fn: 558 labels: 8\n",
            "Macro-average\t prec: 0.92130697, rec: 0.9075749, f1: 0.9143894\n",
            "Micro-average\t prec: 0.93742716, rec: 0.9351389, f1: 0.9362816\n",
            "\n",
            "\n",
            "Epoch 7/15 started, lr: 0.0019417477, dataset size: 14041\n",
            "\n",
            "\n",
            "Epoch 7/15 - 305.17s - loss: 593.63495 - batches: 1407\n",
            "Quality on test dataset: \n",
            "time to finish evaluation: 13.55s\n",
            "label\t tp\t fp\t fn\t prec\t rec\t f1\n",
            "B-LOC\t 1768\t 63\t 69\t 0.96559256\t 0.96243876\t 0.9640131\n",
            "I-ORG\t 662\t 55\t 89\t 0.9232915\t 0.88149136\t 0.9019073\n",
            "I-MISC\t 276\t 71\t 70\t 0.79538906\t 0.7976879\t 0.7965368\n",
            "I-LOC\t 235\t 39\t 22\t 0.8576642\t 0.9143969\t 0.8851224\n",
            "I-PER\t 1275\t 25\t 32\t 0.9807692\t 0.97551644\t 0.9781357\n",
            "B-MISC\t 837\t 94\t 85\t 0.8990333\t 0.90780914\t 0.90339994\n",
            "B-ORG\t 1237\t 96\t 104\t 0.927982\t 0.92244595\t 0.9252057\n",
            "B-PER\t 1805\t 69\t 37\t 0.96318036\t 0.9799131\t 0.97147465\n",
            "tp: 8095 fp: 512 fn: 508 labels: 8\n",
            "Macro-average\t prec: 0.91411275, rec: 0.91771245, f1: 0.915909\n",
            "Micro-average\t prec: 0.94051355, rec: 0.9409508, f1: 0.9407321\n",
            "\n",
            "\n",
            "Epoch 8/15 started, lr: 0.0019323673, dataset size: 14041\n",
            "\n",
            "\n",
            "Epoch 8/15 - 314.36s - loss: 580.82684 - batches: 1407\n",
            "Quality on test dataset: \n",
            "time to finish evaluation: 13.47s\n",
            "label\t tp\t fp\t fn\t prec\t rec\t f1\n",
            "B-LOC\t 1752\t 71\t 85\t 0.9610532\t 0.9537289\t 0.9573771\n",
            "I-ORG\t 675\t 82\t 76\t 0.8916777\t 0.8988016\t 0.8952255\n",
            "I-MISC\t 264\t 56\t 82\t 0.825\t 0.7630058\t 0.7927928\n",
            "I-LOC\t 218\t 21\t 39\t 0.9121339\t 0.848249\t 0.87903225\n",
            "I-PER\t 1273\t 17\t 34\t 0.9868217\t 0.9739862\t 0.980362\n",
            "B-MISC\t 822\t 88\t 100\t 0.9032967\t 0.8915401\t 0.89737993\n",
            "B-ORG\t 1250\t 120\t 91\t 0.91240877\t 0.9321402\t 0.92216897\n",
            "B-PER\t 1791\t 60\t 51\t 0.9675851\t 0.9723127\t 0.9699431\n",
            "tp: 8045 fp: 515 fn: 558 labels: 8\n",
            "Macro-average\t prec: 0.91999716, rec: 0.9042206, f1: 0.91204065\n",
            "Micro-average\t prec: 0.93983644, rec: 0.9351389, f1: 0.93748176\n",
            "\n",
            "\n",
            "Epoch 9/15 started, lr: 0.001923077, dataset size: 14041\n",
            "\n",
            "\n",
            "Epoch 9/15 - 307.38s - loss: 509.00293 - batches: 1407\n",
            "Quality on test dataset: \n",
            "time to finish evaluation: 13.41s\n",
            "label\t tp\t fp\t fn\t prec\t rec\t f1\n",
            "B-LOC\t 1771\t 75\t 66\t 0.9593716\t 0.96407187\t 0.961716\n",
            "I-ORG\t 664\t 79\t 87\t 0.8936743\t 0.88415444\t 0.8888889\n",
            "I-MISC\t 249\t 26\t 97\t 0.9054545\t 0.7196532\t 0.80193233\n",
            "I-LOC\t 236\t 29\t 21\t 0.89056605\t 0.91828793\t 0.90421456\n",
            "I-PER\t 1279\t 32\t 28\t 0.9755911\t 0.9785769\t 0.9770817\n",
            "B-MISC\t 808\t 68\t 114\t 0.9223744\t 0.87635577\t 0.8987765\n",
            "B-ORG\t 1246\t 99\t 95\t 0.92639405\t 0.9291573\t 0.92777365\n",
            "B-PER\t 1800\t 70\t 42\t 0.96256685\t 0.9771987\t 0.9698276\n",
            "tp: 8053 fp: 478 fn: 550 labels: 8\n",
            "Macro-average\t prec: 0.9294991, rec: 0.905932, f1: 0.9175642\n",
            "Micro-average\t prec: 0.9439691, rec: 0.93606883, f1: 0.9400023\n",
            "\n",
            "\n",
            "Epoch 10/15 started, lr: 0.0019138758, dataset size: 14041\n",
            "\n",
            "\n",
            "Epoch 10/15 - 271.05s - loss: 495.974 - batches: 1407\n",
            "Quality on test dataset: \n",
            "time to finish evaluation: 12.84s\n",
            "label\t tp\t fp\t fn\t prec\t rec\t f1\n",
            "B-LOC\t 1777\t 77\t 60\t 0.9584682\t 0.967338\t 0.96288264\n",
            "I-ORG\t 666\t 66\t 85\t 0.90983605\t 0.8868176\t 0.89817935\n",
            "I-MISC\t 273\t 52\t 73\t 0.84\t 0.7890173\t 0.8137108\n",
            "I-LOC\t 237\t 44\t 20\t 0.8434164\t 0.922179\t 0.8810409\n",
            "I-PER\t 1272\t 30\t 35\t 0.9769585\t 0.9732211\t 0.9750863\n",
            "B-MISC\t 833\t 81\t 89\t 0.91137856\t 0.9034707\t 0.9074074\n",
            "B-ORG\t 1246\t 95\t 95\t 0.9291573\t 0.9291573\t 0.9291573\n",
            "B-PER\t 1788\t 60\t 54\t 0.96753246\t 0.97068405\t 0.9691057\n",
            "tp: 8092 fp: 505 fn: 511 labels: 8\n",
            "Macro-average\t prec: 0.9170934, rec: 0.9177356, f1: 0.91741437\n",
            "Micro-average\t prec: 0.94125855, rec: 0.9406021, f1: 0.9409302\n",
            "\n",
            "\n",
            "Epoch 11/15 started, lr: 0.0019047621, dataset size: 14041\n",
            "\n",
            "\n",
            "Epoch 11/15 - 261.12s - loss: 467.40195 - batches: 1407\n",
            "Quality on test dataset: \n",
            "time to finish evaluation: 12.57s\n",
            "label\t tp\t fp\t fn\t prec\t rec\t f1\n",
            "B-LOC\t 1773\t 71\t 64\t 0.9614968\t 0.9651606\t 0.96332514\n",
            "I-ORG\t 649\t 62\t 102\t 0.9127989\t 0.8641811\t 0.88782495\n",
            "I-MISC\t 263\t 35\t 83\t 0.88255036\t 0.7601156\t 0.8167702\n",
            "I-LOC\t 238\t 27\t 19\t 0.8981132\t 0.92607003\t 0.9118774\n",
            "I-PER\t 1274\t 45\t 33\t 0.96588326\t 0.97475135\t 0.97029704\n",
            "B-MISC\t 829\t 86\t 93\t 0.9060109\t 0.8991323\t 0.9025585\n",
            "B-ORG\t 1234\t 99\t 107\t 0.9257314\t 0.9202088\t 0.92296183\n",
            "B-PER\t 1793\t 87\t 49\t 0.95372343\t 0.9733985\t 0.96346056\n",
            "tp: 8053 fp: 512 fn: 550 labels: 8\n",
            "Macro-average\t prec: 0.9257886, rec: 0.9103773, f1: 0.9180183\n",
            "Micro-average\t prec: 0.94022185, rec: 0.93606883, f1: 0.93814075\n",
            "\n",
            "\n",
            "Epoch 12/15 started, lr: 0.0018957348, dataset size: 14041\n",
            "\n",
            "\n",
            "Epoch 12/15 - 261.07s - loss: 467.0188 - batches: 1407\n",
            "Quality on test dataset: \n",
            "time to finish evaluation: 12.67s\n",
            "label\t tp\t fp\t fn\t prec\t rec\t f1\n",
            "B-LOC\t 1758\t 52\t 79\t 0.97127074\t 0.9569951\t 0.9640801\n",
            "I-ORG\t 642\t 64\t 109\t 0.9093484\t 0.8548602\t 0.88126284\n",
            "I-MISC\t 266\t 54\t 80\t 0.83125\t 0.76878613\t 0.7987988\n",
            "I-LOC\t 224\t 10\t 33\t 0.95726496\t 0.8715953\t 0.9124236\n",
            "I-PER\t 1268\t 35\t 39\t 0.9731389\t 0.97016066\t 0.9716475\n",
            "B-MISC\t 836\t 109\t 86\t 0.8846561\t 0.9067245\t 0.8955543\n",
            "B-ORG\t 1235\t 88\t 106\t 0.9334845\t 0.9209545\t 0.92717713\n",
            "B-PER\t 1799\t 91\t 43\t 0.95185184\t 0.9766558\t 0.96409434\n",
            "tp: 8028 fp: 503 fn: 575 labels: 8\n",
            "Macro-average\t prec: 0.92653316, rec: 0.9033416, f1: 0.9147904\n",
            "Micro-average\t prec: 0.94103855, rec: 0.93316287, f1: 0.93708414\n",
            "\n",
            "\n",
            "Epoch 13/15 started, lr: 0.0018867926, dataset size: 14041\n",
            "\n",
            "\n",
            "Epoch 13/15 - 256.81s - loss: 469.56854 - batches: 1407\n",
            "Quality on test dataset: \n",
            "time to finish evaluation: 12.59s\n",
            "label\t tp\t fp\t fn\t prec\t rec\t f1\n",
            "B-LOC\t 1742\t 42\t 95\t 0.9764574\t 0.9482852\t 0.9621651\n",
            "I-ORG\t 645\t 69\t 106\t 0.9033613\t 0.8588549\t 0.8805461\n",
            "I-MISC\t 268\t 46\t 78\t 0.85350317\t 0.7745665\t 0.8121212\n",
            "I-LOC\t 220\t 12\t 37\t 0.94827586\t 0.8560311\t 0.8997955\n",
            "I-PER\t 1275\t 43\t 32\t 0.9673748\t 0.97551644\t 0.9714285\n",
            "B-MISC\t 824\t 84\t 98\t 0.907489\t 0.8937093\t 0.90054643\n",
            "B-ORG\t 1217\t 106\t 124\t 0.9198791\t 0.9075317\t 0.9136637\n",
            "B-PER\t 1810\t 122\t 32\t 0.936853\t 0.9826276\t 0.9591945\n",
            "tp: 8001 fp: 524 fn: 602 labels: 8\n",
            "Macro-average\t prec: 0.92664915, rec: 0.8996403, f1: 0.91294503\n",
            "Micro-average\t prec: 0.9385337, rec: 0.9300244, f1: 0.93425965\n",
            "\n",
            "\n",
            "Epoch 14/15 started, lr: 0.0018779342, dataset size: 14041\n",
            "\n",
            "\n",
            "Epoch 14/15 - 262.74s - loss: 416.0752 - batches: 1407\n",
            "Quality on test dataset: \n",
            "time to finish evaluation: 12.76s\n",
            "label\t tp\t fp\t fn\t prec\t rec\t f1\n",
            "B-LOC\t 1764\t 67\t 73\t 0.963408\t 0.9602613\t 0.96183205\n",
            "I-ORG\t 647\t 60\t 104\t 0.9151344\t 0.86151797\t 0.88751715\n",
            "I-MISC\t 286\t 60\t 60\t 0.8265896\t 0.8265896\t 0.82658964\n",
            "I-LOC\t 218\t 14\t 39\t 0.9396552\t 0.848249\t 0.8916155\n",
            "I-PER\t 1275\t 42\t 32\t 0.9681093\t 0.97551644\t 0.97179884\n",
            "B-MISC\t 838\t 86\t 84\t 0.9069264\t 0.9088937\t 0.907909\n",
            "B-ORG\t 1221\t 90\t 120\t 0.9313501\t 0.91051453\t 0.9208145\n",
            "B-PER\t 1798\t 90\t 44\t 0.9523305\t 0.9761129\t 0.9640751\n",
            "tp: 8047 fp: 509 fn: 556 labels: 8\n",
            "Macro-average\t prec: 0.925438, rec: 0.90845686, f1: 0.9168688\n",
            "Micro-average\t prec: 0.94050956, rec: 0.9353714, f1: 0.93793344\n",
            "\n",
            "\n",
            "Epoch 15/15 started, lr: 0.0018691588, dataset size: 14041\n",
            "\n",
            "\n",
            "Epoch 15/15 - 264.16s - loss: 429.37677 - batches: 1407\n",
            "Quality on test dataset: \n",
            "time to finish evaluation: 15.81s\n",
            "label\t tp\t fp\t fn\t prec\t rec\t f1\n",
            "B-LOC\t 1781\t 61\t 56\t 0.96688384\t 0.9695155\t 0.9681979\n",
            "I-ORG\t 681\t 56\t 70\t 0.9240163\t 0.906791\t 0.9153226\n",
            "I-MISC\t 285\t 47\t 61\t 0.8584337\t 0.8236994\t 0.8407079\n",
            "I-LOC\t 236\t 19\t 21\t 0.9254902\t 0.91828793\t 0.921875\n",
            "I-PER\t 1265\t 32\t 42\t 0.9753277\t 0.96786535\t 0.97158223\n",
            "B-MISC\t 851\t 92\t 71\t 0.902439\t 0.9229935\t 0.91260046\n",
            "B-ORG\t 1252\t 79\t 89\t 0.9406461\t 0.9336316\t 0.93712574\n",
            "B-PER\t 1776\t 69\t 66\t 0.9626016\t 0.9641694\t 0.9633849\n",
            "tp: 8127 fp: 455 fn: 476 labels: 8\n",
            "Macro-average\t prec: 0.93197984, rec: 0.9258692, f1: 0.9289144\n",
            "Micro-average\t prec: 0.946982, rec: 0.94467044, f1: 0.9458248\n"
          ]
        }
      ]
    },
    {
      "cell_type": "code",
      "source": [
        "import pyspark.sql.functions as F\n",
        "\n",
        "predictions = ner_model.transform(test_data)\n",
        "\n",
        "predictions.select(F.explode(F.arrays_zip('token.result','label.result','ner.result')).alias(\"cols\")) \\\n",
        ".select(F.expr(\"cols['0']\").alias(\"token\"),\n",
        "        F.expr(\"cols['1']\").alias(\"ground_truth\"),\n",
        "        F.expr(\"cols['2']\").alias(\"prediction\")).show(truncate=False)"
      ],
      "metadata": {
        "colab": {
          "base_uri": "https://localhost:8080/"
        },
        "id": "EFgkLbh4ua2W",
        "outputId": "263dde65-bebd-405c-81b4-f241c8fc9416"
      },
      "execution_count": null,
      "outputs": [
        {
          "output_type": "stream",
          "name": "stdout",
          "text": [
            "+--------------+------------+----------+\n",
            "|token         |ground_truth|prediction|\n",
            "+--------------+------------+----------+\n",
            "|CRICKET       |O           |O         |\n",
            "|-             |O           |O         |\n",
            "|LEICESTERSHIRE|B-ORG       |B-ORG     |\n",
            "|TAKE          |O           |O         |\n",
            "|OVER          |O           |O         |\n",
            "|AT            |O           |O         |\n",
            "|TOP           |O           |O         |\n",
            "|AFTER         |O           |O         |\n",
            "|INNINGS       |O           |O         |\n",
            "|VICTORY       |O           |O         |\n",
            "|.             |O           |O         |\n",
            "|LONDON        |B-LOC       |B-LOC     |\n",
            "|1996-08-30    |O           |O         |\n",
            "|West          |B-MISC      |B-MISC    |\n",
            "|Indian        |I-MISC      |I-MISC    |\n",
            "|all-rounder   |O           |O         |\n",
            "|Phil          |B-PER       |B-PER     |\n",
            "|Simmons       |I-PER       |I-PER     |\n",
            "|took          |O           |O         |\n",
            "|four          |O           |O         |\n",
            "+--------------+------------+----------+\n",
            "only showing top 20 rows\n",
            "\n"
          ]
        }
      ]
    },
    {
      "cell_type": "code",
      "source": [
        "from sklearn.metrics import classification_report\n",
        "\n",
        "preds_df = predictions.select(F.explode(F.arrays_zip('token.result','label.result','ner.result')).alias(\"cols\")) \\\n",
        ".select(F.expr(\"cols['0']\").alias(\"token\"),\n",
        "        F.expr(\"cols['1']\").alias(\"ground_truth\"),\n",
        "        F.expr(\"cols['2']\").alias(\"prediction\")).toPandas()\n",
        "\n",
        "print (classification_report(preds_df['ground_truth'], preds_df['prediction']))"
      ],
      "metadata": {
        "colab": {
          "base_uri": "https://localhost:8080/"
        },
        "id": "fmQUu12duay0",
        "outputId": "b7601b98-7222-48d4-c1ac-951e396d2c29"
      },
      "execution_count": null,
      "outputs": [
        {
          "output_type": "stream",
          "name": "stdout",
          "text": [
            "              precision    recall  f1-score   support\n",
            "\n",
            "       B-LOC       0.97      0.97      0.97      1837\n",
            "      B-MISC       0.90      0.92      0.91       922\n",
            "       B-ORG       0.94      0.93      0.94      1341\n",
            "       B-PER       0.96      0.96      0.96      1842\n",
            "       I-LOC       0.93      0.92      0.92       257\n",
            "      I-MISC       0.86      0.82      0.84       346\n",
            "       I-ORG       0.92      0.91      0.92       751\n",
            "       I-PER       0.98      0.97      0.97      1307\n",
            "           O       1.00      1.00      1.00     42759\n",
            "\n",
            "    accuracy                           0.99     51362\n",
            "   macro avg       0.94      0.93      0.94     51362\n",
            "weighted avg       0.99      0.99      0.99     51362\n",
            "\n"
          ]
        }
      ]
    },
    {
      "cell_type": "markdown",
      "source": [
        "### Saving the Trained Model"
      ],
      "metadata": {
        "id": "kTud4jgb-oDY"
      }
    },
    {
      "cell_type": "code",
      "source": [
        "ner_model.stages"
      ],
      "metadata": {
        "colab": {
          "base_uri": "https://localhost:8080/"
        },
        "id": "cNyLicfmuava",
        "outputId": "1008d399-427a-4d09-e600-e55196da0ccd"
      },
      "execution_count": null,
      "outputs": [
        {
          "output_type": "execute_result",
          "data": {
            "text/plain": [
              "[WORD_EMBEDDINGS_MODEL_48cffc8b9a76, NerDLModel_0fd3b8deb917]"
            ]
          },
          "metadata": {},
          "execution_count": 22
        }
      ]
    },
    {
      "cell_type": "code",
      "source": [
        "ner_model.stages[1].write().overwrite().save(\"Ner_glove_graph_100d_e15_b10_lr0.002\")"
      ],
      "metadata": {
        "id": "2FCU-UqI8gjP"
      },
      "execution_count": null,
      "outputs": []
    },
    {
      "cell_type": "markdown",
      "source": [
        "# Prediction Pipeline"
      ],
      "metadata": {
        "id": "41DEJiFA95p6"
      }
    },
    {
      "cell_type": "code",
      "source": [
        "document = DocumentAssembler()\\\n",
        "    .setInputCol(\"text\")\\\n",
        "    .setOutputCol(\"document\")\n",
        "\n",
        "sentence = SentenceDetector()\\\n",
        "    .setInputCols(['document'])\\\n",
        "    .setOutputCol('sentence')\n",
        "\n",
        "token = Tokenizer()\\\n",
        "    .setInputCols(['sentence'])\\\n",
        "    .setOutputCol('token')\n",
        "    \n",
        "glove_embeddings = WordEmbeddingsModel.pretrained()\\\n",
        "    .setInputCols([\"document\", \"token\"])\\\n",
        "    .setOutputCol(\"embeddings\")\n",
        "\n",
        "loaded_ner_model = NerDLModel.load(\"Ner_glove_graph_100d_e15_b10_lr0.002\")\\\n",
        "    .setInputCols([\"sentence\", \"token\", \"embeddings\"])\\\n",
        "    .setOutputCol(\"ner\")\n",
        "\n",
        "converter = NerConverter()\\\n",
        "    .setInputCols([\"sentence\", \"token\", \"ner\"])\\\n",
        "    .setOutputCol(\"ner_span\")\n",
        "\n",
        "ner_prediction_pipeline = Pipeline(stages = [\n",
        "      document,\n",
        "      sentence,\n",
        "      token,\n",
        "      glove_embeddings,\n",
        "      loaded_ner_model,\n",
        "      converter\n",
        "  ])\n",
        "\n",
        "empty_data = spark.createDataFrame([['']]).toDF(\"text\")\n",
        "\n",
        "prediction_model = ner_prediction_pipeline.fit(empty_data)"
      ],
      "metadata": {
        "colab": {
          "base_uri": "https://localhost:8080/"
        },
        "id": "IQJwUyCZ8gXB",
        "outputId": "cf45813b-d3a7-44ed-807b-e6ec5de2dd60"
      },
      "execution_count": null,
      "outputs": [
        {
          "output_type": "stream",
          "name": "stdout",
          "text": [
            "glove_100d download started this may take some time.\n",
            "Approximate size to download 145.3 MB\n",
            "[OK!]\n"
          ]
        }
      ]
    },
    {
      "cell_type": "code",
      "source": [
        "text = \"Mustafa Gökhan Türer is a nice guy who likes aviation and lives in Samsun.\"\n",
        "\n",
        "sample_data = spark.createDataFrame([[text]]).toDF(\"text\")\n",
        "\n",
        "sample_data.show(truncate=110)"
      ],
      "metadata": {
        "colab": {
          "base_uri": "https://localhost:8080/"
        },
        "id": "gjaO2f-5-z5r",
        "outputId": "f028248a-82cb-4a1e-9ca3-7302406efc03"
      },
      "execution_count": null,
      "outputs": [
        {
          "output_type": "stream",
          "name": "stdout",
          "text": [
            "+--------------------------------------------------------------------------+\n",
            "|                                                                      text|\n",
            "+--------------------------------------------------------------------------+\n",
            "|Mustafa Gökhan Türer is a nice guy who likes aviation and lives in Samsun.|\n",
            "+--------------------------------------------------------------------------+\n",
            "\n"
          ]
        }
      ]
    },
    {
      "cell_type": "code",
      "source": [
        "preds = prediction_model.transform(sample_data)\n",
        "\n",
        "preds.select(F.explode(F.arrays_zip(preds.ner_span.result,preds.ner_span.metadata)).alias(\"entities\")) \\\n",
        "      .select(F.expr(\"entities['0']\").alias(\"chunk\"),\n",
        "              F.expr(\"entities['1'].entity\").alias(\"entity\")).show(truncate=False)"
      ],
      "metadata": {
        "colab": {
          "base_uri": "https://localhost:8080/"
        },
        "id": "O_IoRhds-z14",
        "outputId": "105fdabf-13f8-4a5d-860d-a069edbf7ffb"
      },
      "execution_count": null,
      "outputs": [
        {
          "output_type": "stream",
          "name": "stdout",
          "text": [
            "+--------------------+------+\n",
            "|chunk               |entity|\n",
            "+--------------------+------+\n",
            "|Mustafa Gökhan Türer|PER   |\n",
            "|Samsun              |LOC   |\n",
            "+--------------------+------+\n",
            "\n"
          ]
        }
      ]
    },
    {
      "cell_type": "code",
      "source": [
        "from sparknlp.base import LightPipeline\n",
        "\n",
        "light_model = LightPipeline(prediction_model)\n",
        "\n",
        "result = light_model.annotate(text)\n",
        "\n",
        "list(zip(result['token'], result['ner']))"
      ],
      "metadata": {
        "colab": {
          "base_uri": "https://localhost:8080/"
        },
        "id": "fR0TGKdB-zyA",
        "outputId": "596c2318-5cef-45e6-fe84-9357d19aa58b"
      },
      "execution_count": null,
      "outputs": [
        {
          "output_type": "execute_result",
          "data": {
            "text/plain": [
              "[('Mustafa', 'B-PER'),\n",
              " ('Gökhan', 'I-PER'),\n",
              " ('Türer', 'I-PER'),\n",
              " ('is', 'O'),\n",
              " ('a', 'O'),\n",
              " ('nice', 'O'),\n",
              " ('guy', 'O'),\n",
              " ('who', 'O'),\n",
              " ('likes', 'O'),\n",
              " ('aviation', 'O'),\n",
              " ('and', 'O'),\n",
              " ('lives', 'O'),\n",
              " ('in', 'O'),\n",
              " ('Samsun', 'B-LOC'),\n",
              " ('.', 'O')]"
            ]
          },
          "metadata": {},
          "execution_count": 39
        }
      ]
    },
    {
      "cell_type": "code",
      "source": [
        "import pandas as pd\n",
        "\n",
        "result = light_model.fullAnnotate(text)\n",
        "\n",
        "ner_df= pd.DataFrame([(int(x.metadata['sentence']), x.result, x.begin, x.end, y.result) for x,y in zip(result[0][\"token\"], result[0][\"ner\"])], \n",
        "                      columns=['sent_id','token','start','end','ner'])\n",
        "ner_df"
      ],
      "metadata": {
        "colab": {
          "base_uri": "https://localhost:8080/",
          "height": 514
        },
        "id": "el1R3_4P-ztq",
        "outputId": "57b6a587-4492-41ff-e116-57b7fb560257"
      },
      "execution_count": null,
      "outputs": [
        {
          "output_type": "execute_result",
          "data": {
            "text/html": [
              "\n",
              "  <div id=\"df-95216ea7-9b1f-4061-8a57-0c3e7750c263\">\n",
              "    <div class=\"colab-df-container\">\n",
              "      <div>\n",
              "<style scoped>\n",
              "    .dataframe tbody tr th:only-of-type {\n",
              "        vertical-align: middle;\n",
              "    }\n",
              "\n",
              "    .dataframe tbody tr th {\n",
              "        vertical-align: top;\n",
              "    }\n",
              "\n",
              "    .dataframe thead th {\n",
              "        text-align: right;\n",
              "    }\n",
              "</style>\n",
              "<table border=\"1\" class=\"dataframe\">\n",
              "  <thead>\n",
              "    <tr style=\"text-align: right;\">\n",
              "      <th></th>\n",
              "      <th>sent_id</th>\n",
              "      <th>token</th>\n",
              "      <th>start</th>\n",
              "      <th>end</th>\n",
              "      <th>ner</th>\n",
              "    </tr>\n",
              "  </thead>\n",
              "  <tbody>\n",
              "    <tr>\n",
              "      <th>0</th>\n",
              "      <td>0</td>\n",
              "      <td>Mustafa</td>\n",
              "      <td>0</td>\n",
              "      <td>6</td>\n",
              "      <td>B-PER</td>\n",
              "    </tr>\n",
              "    <tr>\n",
              "      <th>1</th>\n",
              "      <td>0</td>\n",
              "      <td>Gökhan</td>\n",
              "      <td>8</td>\n",
              "      <td>13</td>\n",
              "      <td>I-PER</td>\n",
              "    </tr>\n",
              "    <tr>\n",
              "      <th>2</th>\n",
              "      <td>0</td>\n",
              "      <td>Türer</td>\n",
              "      <td>15</td>\n",
              "      <td>19</td>\n",
              "      <td>I-PER</td>\n",
              "    </tr>\n",
              "    <tr>\n",
              "      <th>3</th>\n",
              "      <td>0</td>\n",
              "      <td>is</td>\n",
              "      <td>21</td>\n",
              "      <td>22</td>\n",
              "      <td>O</td>\n",
              "    </tr>\n",
              "    <tr>\n",
              "      <th>4</th>\n",
              "      <td>0</td>\n",
              "      <td>a</td>\n",
              "      <td>24</td>\n",
              "      <td>24</td>\n",
              "      <td>O</td>\n",
              "    </tr>\n",
              "    <tr>\n",
              "      <th>5</th>\n",
              "      <td>0</td>\n",
              "      <td>nice</td>\n",
              "      <td>26</td>\n",
              "      <td>29</td>\n",
              "      <td>O</td>\n",
              "    </tr>\n",
              "    <tr>\n",
              "      <th>6</th>\n",
              "      <td>0</td>\n",
              "      <td>guy</td>\n",
              "      <td>31</td>\n",
              "      <td>33</td>\n",
              "      <td>O</td>\n",
              "    </tr>\n",
              "    <tr>\n",
              "      <th>7</th>\n",
              "      <td>0</td>\n",
              "      <td>who</td>\n",
              "      <td>35</td>\n",
              "      <td>37</td>\n",
              "      <td>O</td>\n",
              "    </tr>\n",
              "    <tr>\n",
              "      <th>8</th>\n",
              "      <td>0</td>\n",
              "      <td>likes</td>\n",
              "      <td>39</td>\n",
              "      <td>43</td>\n",
              "      <td>O</td>\n",
              "    </tr>\n",
              "    <tr>\n",
              "      <th>9</th>\n",
              "      <td>0</td>\n",
              "      <td>aviation</td>\n",
              "      <td>45</td>\n",
              "      <td>52</td>\n",
              "      <td>O</td>\n",
              "    </tr>\n",
              "    <tr>\n",
              "      <th>10</th>\n",
              "      <td>0</td>\n",
              "      <td>and</td>\n",
              "      <td>54</td>\n",
              "      <td>56</td>\n",
              "      <td>O</td>\n",
              "    </tr>\n",
              "    <tr>\n",
              "      <th>11</th>\n",
              "      <td>0</td>\n",
              "      <td>lives</td>\n",
              "      <td>58</td>\n",
              "      <td>62</td>\n",
              "      <td>O</td>\n",
              "    </tr>\n",
              "    <tr>\n",
              "      <th>12</th>\n",
              "      <td>0</td>\n",
              "      <td>in</td>\n",
              "      <td>64</td>\n",
              "      <td>65</td>\n",
              "      <td>O</td>\n",
              "    </tr>\n",
              "    <tr>\n",
              "      <th>13</th>\n",
              "      <td>0</td>\n",
              "      <td>Samsun</td>\n",
              "      <td>67</td>\n",
              "      <td>72</td>\n",
              "      <td>B-LOC</td>\n",
              "    </tr>\n",
              "    <tr>\n",
              "      <th>14</th>\n",
              "      <td>0</td>\n",
              "      <td>.</td>\n",
              "      <td>73</td>\n",
              "      <td>73</td>\n",
              "      <td>O</td>\n",
              "    </tr>\n",
              "  </tbody>\n",
              "</table>\n",
              "</div>\n",
              "      <button class=\"colab-df-convert\" onclick=\"convertToInteractive('df-95216ea7-9b1f-4061-8a57-0c3e7750c263')\"\n",
              "              title=\"Convert this dataframe to an interactive table.\"\n",
              "              style=\"display:none;\">\n",
              "        \n",
              "  <svg xmlns=\"http://www.w3.org/2000/svg\" height=\"24px\"viewBox=\"0 0 24 24\"\n",
              "       width=\"24px\">\n",
              "    <path d=\"M0 0h24v24H0V0z\" fill=\"none\"/>\n",
              "    <path d=\"M18.56 5.44l.94 2.06.94-2.06 2.06-.94-2.06-.94-.94-2.06-.94 2.06-2.06.94zm-11 1L8.5 8.5l.94-2.06 2.06-.94-2.06-.94L8.5 2.5l-.94 2.06-2.06.94zm10 10l.94 2.06.94-2.06 2.06-.94-2.06-.94-.94-2.06-.94 2.06-2.06.94z\"/><path d=\"M17.41 7.96l-1.37-1.37c-.4-.4-.92-.59-1.43-.59-.52 0-1.04.2-1.43.59L10.3 9.45l-7.72 7.72c-.78.78-.78 2.05 0 2.83L4 21.41c.39.39.9.59 1.41.59.51 0 1.02-.2 1.41-.59l7.78-7.78 2.81-2.81c.8-.78.8-2.07 0-2.86zM5.41 20L4 18.59l7.72-7.72 1.47 1.35L5.41 20z\"/>\n",
              "  </svg>\n",
              "      </button>\n",
              "      \n",
              "  <style>\n",
              "    .colab-df-container {\n",
              "      display:flex;\n",
              "      flex-wrap:wrap;\n",
              "      gap: 12px;\n",
              "    }\n",
              "\n",
              "    .colab-df-convert {\n",
              "      background-color: #E8F0FE;\n",
              "      border: none;\n",
              "      border-radius: 50%;\n",
              "      cursor: pointer;\n",
              "      display: none;\n",
              "      fill: #1967D2;\n",
              "      height: 32px;\n",
              "      padding: 0 0 0 0;\n",
              "      width: 32px;\n",
              "    }\n",
              "\n",
              "    .colab-df-convert:hover {\n",
              "      background-color: #E2EBFA;\n",
              "      box-shadow: 0px 1px 2px rgba(60, 64, 67, 0.3), 0px 1px 3px 1px rgba(60, 64, 67, 0.15);\n",
              "      fill: #174EA6;\n",
              "    }\n",
              "\n",
              "    [theme=dark] .colab-df-convert {\n",
              "      background-color: #3B4455;\n",
              "      fill: #D2E3FC;\n",
              "    }\n",
              "\n",
              "    [theme=dark] .colab-df-convert:hover {\n",
              "      background-color: #434B5C;\n",
              "      box-shadow: 0px 1px 3px 1px rgba(0, 0, 0, 0.15);\n",
              "      filter: drop-shadow(0px 1px 2px rgba(0, 0, 0, 0.3));\n",
              "      fill: #FFFFFF;\n",
              "    }\n",
              "  </style>\n",
              "\n",
              "      <script>\n",
              "        const buttonEl =\n",
              "          document.querySelector('#df-95216ea7-9b1f-4061-8a57-0c3e7750c263 button.colab-df-convert');\n",
              "        buttonEl.style.display =\n",
              "          google.colab.kernel.accessAllowed ? 'block' : 'none';\n",
              "\n",
              "        async function convertToInteractive(key) {\n",
              "          const element = document.querySelector('#df-95216ea7-9b1f-4061-8a57-0c3e7750c263');\n",
              "          const dataTable =\n",
              "            await google.colab.kernel.invokeFunction('convertToInteractive',\n",
              "                                                     [key], {});\n",
              "          if (!dataTable) return;\n",
              "\n",
              "          const docLinkHtml = 'Like what you see? Visit the ' +\n",
              "            '<a target=\"_blank\" href=https://colab.research.google.com/notebooks/data_table.ipynb>data table notebook</a>'\n",
              "            + ' to learn more about interactive tables.';\n",
              "          element.innerHTML = '';\n",
              "          dataTable['output_type'] = 'display_data';\n",
              "          await google.colab.output.renderOutput(dataTable, element);\n",
              "          const docLink = document.createElement('div');\n",
              "          docLink.innerHTML = docLinkHtml;\n",
              "          element.appendChild(docLink);\n",
              "        }\n",
              "      </script>\n",
              "    </div>\n",
              "  </div>\n",
              "  "
            ],
            "text/plain": [
              "    sent_id     token  start  end    ner\n",
              "0         0   Mustafa      0    6  B-PER\n",
              "1         0    Gökhan      8   13  I-PER\n",
              "2         0     Türer     15   19  I-PER\n",
              "3         0        is     21   22      O\n",
              "4         0         a     24   24      O\n",
              "5         0      nice     26   29      O\n",
              "6         0       guy     31   33      O\n",
              "7         0       who     35   37      O\n",
              "8         0     likes     39   43      O\n",
              "9         0  aviation     45   52      O\n",
              "10        0       and     54   56      O\n",
              "11        0     lives     58   62      O\n",
              "12        0        in     64   65      O\n",
              "13        0    Samsun     67   72  B-LOC\n",
              "14        0         .     73   73      O"
            ]
          },
          "metadata": {},
          "execution_count": 40
        }
      ]
    },
    {
      "cell_type": "markdown",
      "source": [
        "## Highlight Entities"
      ],
      "metadata": {
        "id": "_PG4DzttBnF0"
      }
    },
    {
      "cell_type": "code",
      "source": [
        "ann_text = light_model.fullAnnotate(text)[0]\n",
        "ann_text.keys()"
      ],
      "metadata": {
        "colab": {
          "base_uri": "https://localhost:8080/"
        },
        "id": "rwJDCmkrBpUe",
        "outputId": "0a783c15-52ab-42f9-fce1-8676fc847907"
      },
      "execution_count": null,
      "outputs": [
        {
          "output_type": "execute_result",
          "data": {
            "text/plain": [
              "dict_keys(['document', 'ner_span', 'token', 'ner', 'embeddings', 'sentence'])"
            ]
          },
          "metadata": {},
          "execution_count": 41
        }
      ]
    },
    {
      "cell_type": "code",
      "source": [
        "from sparknlp_display import NerVisualizer\n",
        "\n",
        "visualiser = NerVisualizer()\n",
        "\n",
        "visualiser.display(ann_text, label_col='ner_span', document_col='document')"
      ],
      "metadata": {
        "colab": {
          "base_uri": "https://localhost:8080/",
          "height": 88
        },
        "id": "gC32_P0bBo_x",
        "outputId": "d925141f-792e-4185-8637-f6273f2330ef"
      },
      "execution_count": null,
      "outputs": [
        {
          "output_type": "display_data",
          "data": {
            "text/html": [
              "\n",
              "<style>\n",
              "    @import url('https://fonts.googleapis.com/css2?family=Montserrat:wght@300;400;500;600;700&display=swap');\n",
              "    @import url('https://fonts.googleapis.com/css2?family=Vistol Regular:wght@300;400;500;600;700&display=swap');\n",
              "    \n",
              "    .spark-nlp-display-scroll-entities {\n",
              "        border: 1px solid #E7EDF0;\n",
              "        border-radius: 3px;\n",
              "        text-align: justify;\n",
              "        \n",
              "    }\n",
              "    .spark-nlp-display-scroll-entities span {  \n",
              "        font-size: 14px;\n",
              "        line-height: 24px;\n",
              "        color: #536B76;\n",
              "        font-family: 'Montserrat', sans-serif !important;\n",
              "    }\n",
              "    \n",
              "    .spark-nlp-display-entity-wrapper{\n",
              "    \n",
              "        display: inline-grid;\n",
              "        text-align: center;\n",
              "        border-radius: 4px;\n",
              "        margin: 0 2px 5px 2px;\n",
              "        padding: 1px\n",
              "    }\n",
              "    .spark-nlp-display-entity-name{\n",
              "        font-size: 14px;\n",
              "        line-height: 24px;\n",
              "        font-family: 'Montserrat', sans-serif !important;\n",
              "        \n",
              "        background: #f1f2f3;\n",
              "        border-width: medium;\n",
              "        text-align: center;\n",
              "        \n",
              "        font-weight: 400;\n",
              "        \n",
              "        border-radius: 5px;\n",
              "        padding: 2px 5px;\n",
              "        display: block;\n",
              "        margin: 3px 2px;\n",
              "    \n",
              "    }\n",
              "    .spark-nlp-display-entity-type{\n",
              "        font-size: 14px;\n",
              "        line-height: 24px;\n",
              "        color: #ffffff;\n",
              "        font-family: 'Montserrat', sans-serif !important;\n",
              "        \n",
              "        text-transform: uppercase;\n",
              "        \n",
              "        font-weight: 500;\n",
              "\n",
              "        display: block;\n",
              "        padding: 3px 5px;\n",
              "    }\n",
              "    \n",
              "    .spark-nlp-display-entity-resolution{\n",
              "        font-size: 14px;\n",
              "        line-height: 24px;\n",
              "        color: #ffffff;\n",
              "        font-family: 'Vistol Regular', sans-serif !important;\n",
              "        \n",
              "        text-transform: uppercase;\n",
              "        \n",
              "        font-weight: 500;\n",
              "\n",
              "        display: block;\n",
              "        padding: 3px 5px;\n",
              "    }\n",
              "    \n",
              "    .spark-nlp-display-others{\n",
              "        font-size: 14px;\n",
              "        line-height: 24px;\n",
              "        font-family: 'Montserrat', sans-serif !important;\n",
              "        \n",
              "        font-weight: 400;\n",
              "    }\n",
              "\n",
              "</style>\n",
              " <span class=\"spark-nlp-display-entity-wrapper\" style=\"background-color: #4510AB\"><span class=\"spark-nlp-display-entity-name\">Mustafa Gökhan Türer </span><span class=\"spark-nlp-display-entity-type\">PER</span></span><span class=\"spark-nlp-display-others\" style=\"background-color: white\"> is a nice guy who likes aviation and lives in </span><span class=\"spark-nlp-display-entity-wrapper\" style=\"background-color: #72A524\"><span class=\"spark-nlp-display-entity-name\">Samsun </span><span class=\"spark-nlp-display-entity-type\">LOC</span></span><span class=\"spark-nlp-display-others\" style=\"background-color: white\">.</span></div>"
            ],
            "text/plain": [
              "<IPython.core.display.HTML object>"
            ]
          },
          "metadata": {}
        }
      ]
    },
    {
      "cell_type": "markdown",
      "source": [
        "# Streamlit"
      ],
      "metadata": {
        "id": "0to3IfsfBzXf"
      }
    },
    {
      "cell_type": "code",
      "source": [
        ""
      ],
      "metadata": {
        "id": "e90Ivg8aBwiJ"
      },
      "execution_count": null,
      "outputs": []
    }
  ]
}